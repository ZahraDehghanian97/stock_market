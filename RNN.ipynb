{
  "nbformat": 4,
  "nbformat_minor": 0,
  "metadata": {
    "colab": {
      "name": "RNN.ipynb",
      "provenance": [],
      "include_colab_link": true
    },
    "kernelspec": {
      "name": "python3",
      "display_name": "Python 3"
    }
  },
  "cells": [
    {
      "cell_type": "markdown",
      "metadata": {
        "id": "view-in-github",
        "colab_type": "text"
      },
      "source": [
        "<a href=\"https://colab.research.google.com/github/zahraDehghanian97/stock_market/blob/master/RNN.ipynb\" target=\"_parent\"><img src=\"https://colab.research.google.com/assets/colab-badge.svg\" alt=\"Open In Colab\"/></a>"
      ]
    },
    {
      "cell_type": "code",
      "metadata": {
        "id": "nesZtU3N1bld"
      },
      "source": [
        "import pandas as pd\r\n",
        "from keras.layers.core import Dense, Dropout\r\n",
        "from keras.layers.recurrent import GRU\r\n",
        "from keras.models import Sequential, load_model\r\n",
        "import matplotlib.pyplot as plt\r\n",
        "import numpy as np\r\n",
        "from sklearn.model_selection import train_test_split\r\n",
        "from sklearn.preprocessing import MinMaxScaler\r\n",
        "import glob\r\n"
      ],
      "execution_count": 1,
      "outputs": []
    },
    {
      "cell_type": "code",
      "metadata": {
        "id": "EbVkm4Aob13B",
        "colab": {
          "base_uri": "https://localhost:8080/"
        },
        "outputId": "4638bc27-277d-4a85-bc1f-18c70d9480ca"
      },
      "source": [
        "! curl -L https://api.github.com/repos/zahraDehghanian97/stock_market/tarball --output repo.tar\r\n",
        "! tar xf repo.tar --wildcards \"*/tickers_data/*.csv\" --strip-components=1 \r\n",
        "! rm -rf repo.tar\r\n"
      ],
      "execution_count": 2,
      "outputs": [
        {
          "output_type": "stream",
          "text": [
            "  % Total    % Received % Xferd  Average Speed   Time    Time     Time  Current\n",
            "                                 Dload  Upload   Total   Spent    Left  Speed\n",
            "  0     0    0     0    0     0      0      0 --:--:-- --:--:-- --:--:--     0\n",
            "100 7402k    0 7402k    0     0  4693k      0 --:--:--  0:00:01 --:--:-- 6369k\n"
          ],
          "name": "stdout"
        }
      ]
    },
    {
      "cell_type": "code",
      "metadata": {
        "id": "OLfn4yeYb6Ii",
        "colab": {
          "base_uri": "https://localhost:8080/"
        },
        "outputId": "4707f3b0-1fca-455e-b37f-1c26871d6b8f"
      },
      "source": [
        "def load_df_from_csv(dir_name:str) -> dict:\r\n",
        "  stocks = {}\r\n",
        "  for file_name in sorted(glob.glob(dir_name+'/*.csv')):\r\n",
        "    df = pd.read_csv(file_name,names=['close'])\r\n",
        "    dataset_name = file_name.split(\"/\")[1].split(\".csv\")[0]\r\n",
        "    print(dataset_name)\r\n",
        "    stocks[dataset_name] = df\r\n",
        "  return stocks\r\n",
        "\r\n",
        "stocks = load_df_from_csv(dir_name=\"tickers_data\")\r\n",
        "\r\n",
        "def evaluate_performance(testing_actual, testing_predict):\r\n",
        "    counter = 0\r\n",
        "    for i in range(len(testing_actual)-1):\r\n",
        "        predict=testing_predict[i+1]- testing_predict[i]\r\n",
        "        actual = testing_actual[i+1]-testing_actual[i]\r\n",
        "        if (actual > 0 and predict > 0) or (actual < 0 and predict < 0):\r\n",
        "            counter+=1\r\n",
        "    counter = round((counter / (len(testing_actual)-1))*100,2)\r\n",
        "    return counter\r\n"
      ],
      "execution_count": 6,
      "outputs": [
        {
          "output_type": "stream",
          "text": [
            "/usr/local/lib/python3.7/dist-packages/IPython/core/interactiveshell.py:2822: DtypeWarning: Columns (2,3,4,5,6) have mixed types.Specify dtype option on import or set low_memory=False.\n",
            "  if self.run_code(code, result):\n"
          ],
          "name": "stderr"
        },
        {
          "output_type": "stream",
          "text": [
            "prices_stock_yahoo\n",
            "خچرخش\n",
            "شپنا\n"
          ],
          "name": "stdout"
        }
      ]
    },
    {
      "cell_type": "code",
      "metadata": {
        "id": "RnsLE8RRbp1n",
        "colab": {
          "base_uri": "https://localhost:8080/",
          "height": 1000
        },
        "outputId": "7f2bd5ff-a737-4869-9347-80d1c917c7e2"
      },
      "source": [
        "prices = pd.read_csv('tickers_data/prices_stock_yahoo.csv', index_col=['date'])\r\n",
        "# selecting YHOO stocks\r\n",
        "yahoo = prices[prices['symbol']=='YHOO']\r\n",
        "\r\n",
        "# preparing input features\r\n",
        "yahoo = yahoo.drop(['symbol'], axis=1)\r\n",
        "yahoo = yahoo.drop(['volume'], axis=1)\r\n",
        "yahoo = yahoo[['open', 'low', 'high', 'close']]\r\n",
        "\r\n",
        "# preparing label data\r\n",
        "yahoo_shift = yahoo.shift(-1)\r\n",
        "label = yahoo_shift['close']\r\n",
        "\r\n",
        "# adjusting the shape of both\r\n",
        "yahoo.drop(yahoo.index[len(yahoo)-1], axis=0, inplace=True)\r\n",
        "label.drop(label.index[len(label)-1], axis=0, inplace=True)\r\n",
        "\r\n",
        "# conversion to numpy array\r\n",
        "x, y = yahoo.values, label.values\r\n",
        "\r\n",
        "# scaling values for model\r\n",
        "x_scale = MinMaxScaler()\r\n",
        "y_scale = MinMaxScaler()\r\n",
        "\r\n",
        "X = x_scale.fit_transform(x)\r\n",
        "Y = y_scale.fit_transform(y.reshape(-1,1))\r\n",
        "\r\n",
        "# splitting train and test\r\n",
        "X_train, X_test, y_train, y_test = train_test_split(X, Y, test_size=0.33)\r\n",
        "X_train = X_train.reshape((-1,1,4))\r\n",
        "X_test = X_test.reshape((-1,1,4))\r\n",
        "\r\n",
        "# creating model using Keras\r\n",
        "# tf.reset_default_graph()\r\n",
        "\r\n",
        "model_name = 'stock_price_GRU'\r\n",
        "\r\n",
        "model = Sequential()\r\n",
        "model.add(GRU(units=512,\r\n",
        "              return_sequences=True,\r\n",
        "              input_shape=(1, 4)))\r\n",
        "model.add(Dropout(0.2))\r\n",
        "model.add(GRU(units=256))\r\n",
        "model.add(Dropout(0.2))\r\n",
        "model.add(Dense(1, activation='sigmoid'))\r\n",
        "model.compile(loss='mse', optimizer='adam')\r\n",
        "\r\n",
        "# model = load_model(\"{}.h5\".format(model_name))\r\n",
        "# print(\"MODEL-LOADED\")\r\n",
        "\r\n",
        "model.fit(X_train,y_train,batch_size=250, epochs=50, validation_split=0.1, verbose=1)\r\n",
        "model.save(\"{}.h5\".format(model_name))\r\n",
        "print('MODEL-SAVED')\r\n",
        "\r\n",
        "score = model.evaluate(X_test, y_test)\r\n",
        "print('Score: {}'.format(score))\r\n",
        "yhat = model.predict(X_test)\r\n",
        "\r\n",
        "print(\"-------------------------------\")\r\n",
        "print('evaluating performance...')\r\n",
        "accuracy_model = evaluate_performance(y_test, yhat)\r\n",
        "print('Testing Accuracy: ', accuracy_model,\"%\")\r\n",
        "\r\n",
        "\r\n",
        "yhat = y_scale.inverse_transform(yhat)\r\n",
        "y_test = y_scale.inverse_transform(y_test)\r\n",
        "plt.plot(yhat[-100:], label='Predicted')\r\n",
        "plt.plot(y_test[-100:], label='Ground Truth')\r\n",
        "plt.legend()\r\n",
        "plt.show()"
      ],
      "execution_count": 7,
      "outputs": [
        {
          "output_type": "stream",
          "text": [
            "Epoch 1/50\n",
            "3/3 [==============================] - 4s 416ms/step - loss: 0.0436 - val_loss: 0.0421\n",
            "Epoch 2/50\n",
            "3/3 [==============================] - 0s 68ms/step - loss: 0.0406 - val_loss: 0.0404\n",
            "Epoch 3/50\n",
            "3/3 [==============================] - 0s 66ms/step - loss: 0.0395 - val_loss: 0.0372\n",
            "Epoch 4/50\n",
            "3/3 [==============================] - 0s 63ms/step - loss: 0.0366 - val_loss: 0.0338\n",
            "Epoch 5/50\n",
            "3/3 [==============================] - 0s 65ms/step - loss: 0.0325 - val_loss: 0.0299\n",
            "Epoch 6/50\n",
            "3/3 [==============================] - 0s 65ms/step - loss: 0.0287 - val_loss: 0.0260\n",
            "Epoch 7/50\n",
            "3/3 [==============================] - 0s 65ms/step - loss: 0.0247 - val_loss: 0.0218\n",
            "Epoch 8/50\n",
            "3/3 [==============================] - 0s 69ms/step - loss: 0.0199 - val_loss: 0.0160\n",
            "Epoch 9/50\n",
            "3/3 [==============================] - 0s 66ms/step - loss: 0.0143 - val_loss: 0.0090\n",
            "Epoch 10/50\n",
            "3/3 [==============================] - 0s 62ms/step - loss: 0.0077 - val_loss: 0.0043\n",
            "Epoch 11/50\n",
            "3/3 [==============================] - 0s 63ms/step - loss: 0.0039 - val_loss: 0.0020\n",
            "Epoch 12/50\n",
            "3/3 [==============================] - 0s 64ms/step - loss: 0.0019 - val_loss: 0.0013\n",
            "Epoch 13/50\n",
            "3/3 [==============================] - 0s 64ms/step - loss: 0.0015 - val_loss: 0.0022\n",
            "Epoch 14/50\n",
            "3/3 [==============================] - 0s 63ms/step - loss: 0.0023 - val_loss: 0.0026\n",
            "Epoch 15/50\n",
            "3/3 [==============================] - 0s 62ms/step - loss: 0.0028 - val_loss: 0.0027\n",
            "Epoch 16/50\n",
            "3/3 [==============================] - 0s 66ms/step - loss: 0.0030 - val_loss: 0.0023\n",
            "Epoch 17/50\n",
            "3/3 [==============================] - 0s 70ms/step - loss: 0.0025 - val_loss: 0.0018\n",
            "Epoch 18/50\n",
            "3/3 [==============================] - 0s 64ms/step - loss: 0.0018 - val_loss: 0.0014\n",
            "Epoch 19/50\n",
            "3/3 [==============================] - 0s 69ms/step - loss: 0.0015 - val_loss: 0.0013\n",
            "Epoch 20/50\n",
            "3/3 [==============================] - 0s 65ms/step - loss: 0.0013 - val_loss: 0.0013\n",
            "Epoch 21/50\n",
            "3/3 [==============================] - 0s 65ms/step - loss: 0.0014 - val_loss: 0.0014\n",
            "Epoch 22/50\n",
            "3/3 [==============================] - 0s 69ms/step - loss: 0.0014 - val_loss: 0.0014\n",
            "Epoch 23/50\n",
            "3/3 [==============================] - 0s 60ms/step - loss: 0.0015 - val_loss: 0.0015\n",
            "Epoch 24/50\n",
            "3/3 [==============================] - 0s 65ms/step - loss: 0.0016 - val_loss: 0.0014\n",
            "Epoch 25/50\n",
            "3/3 [==============================] - 0s 64ms/step - loss: 0.0015 - val_loss: 0.0013\n",
            "Epoch 26/50\n",
            "3/3 [==============================] - 0s 65ms/step - loss: 0.0013 - val_loss: 0.0012\n",
            "Epoch 27/50\n",
            "3/3 [==============================] - 0s 65ms/step - loss: 0.0013 - val_loss: 0.0012\n",
            "Epoch 28/50\n",
            "3/3 [==============================] - 0s 63ms/step - loss: 0.0013 - val_loss: 0.0012\n",
            "Epoch 29/50\n",
            "3/3 [==============================] - 0s 68ms/step - loss: 0.0013 - val_loss: 0.0013\n",
            "Epoch 30/50\n",
            "3/3 [==============================] - 0s 63ms/step - loss: 0.0014 - val_loss: 0.0012\n",
            "Epoch 31/50\n",
            "3/3 [==============================] - 0s 60ms/step - loss: 0.0014 - val_loss: 0.0013\n",
            "Epoch 32/50\n",
            "3/3 [==============================] - 0s 68ms/step - loss: 0.0014 - val_loss: 0.0013\n",
            "Epoch 33/50\n",
            "3/3 [==============================] - 0s 63ms/step - loss: 0.0014 - val_loss: 0.0013\n",
            "Epoch 34/50\n",
            "3/3 [==============================] - 0s 62ms/step - loss: 0.0014 - val_loss: 0.0012\n",
            "Epoch 35/50\n",
            "3/3 [==============================] - 0s 68ms/step - loss: 0.0013 - val_loss: 0.0013\n",
            "Epoch 36/50\n",
            "3/3 [==============================] - 0s 65ms/step - loss: 0.0014 - val_loss: 0.0016\n",
            "Epoch 37/50\n",
            "3/3 [==============================] - 0s 66ms/step - loss: 0.0016 - val_loss: 0.0013\n",
            "Epoch 38/50\n",
            "3/3 [==============================] - 0s 67ms/step - loss: 0.0013 - val_loss: 0.0017\n",
            "Epoch 39/50\n",
            "3/3 [==============================] - 0s 67ms/step - loss: 0.0021 - val_loss: 0.0015\n",
            "Epoch 40/50\n",
            "3/3 [==============================] - 0s 66ms/step - loss: 0.0015 - val_loss: 0.0014\n",
            "Epoch 41/50\n",
            "3/3 [==============================] - 0s 65ms/step - loss: 0.0016 - val_loss: 0.0012\n",
            "Epoch 42/50\n",
            "3/3 [==============================] - 0s 66ms/step - loss: 0.0015 - val_loss: 0.0018\n",
            "Epoch 43/50\n",
            "3/3 [==============================] - 0s 63ms/step - loss: 0.0019 - val_loss: 0.0012\n",
            "Epoch 44/50\n",
            "3/3 [==============================] - 0s 72ms/step - loss: 0.0014 - val_loss: 0.0018\n",
            "Epoch 45/50\n",
            "3/3 [==============================] - 0s 62ms/step - loss: 0.0018 - val_loss: 0.0013\n",
            "Epoch 46/50\n",
            "3/3 [==============================] - 0s 65ms/step - loss: 0.0015 - val_loss: 0.0018\n",
            "Epoch 47/50\n",
            "3/3 [==============================] - 0s 67ms/step - loss: 0.0019 - val_loss: 0.0012\n",
            "Epoch 48/50\n",
            "3/3 [==============================] - 0s 67ms/step - loss: 0.0014 - val_loss: 0.0017\n",
            "Epoch 49/50\n",
            "3/3 [==============================] - 0s 64ms/step - loss: 0.0017 - val_loss: 0.0013\n",
            "Epoch 50/50\n",
            "3/3 [==============================] - 0s 72ms/step - loss: 0.0015 - val_loss: 0.0018\n",
            "MODEL-SAVED\n",
            "9/9 [==============================] - 0s 6ms/step - loss: 0.0017\n",
            "Score: 0.0017462332034483552\n",
            "-------------------------------\n",
            "evaluating performance...\n",
            "Testing Accuracy:  97.83 %\n"
          ],
          "name": "stdout"
        },
        {
          "output_type": "display_data",
          "data": {
            "image/png": "[encoded data removed]",
            "text/plain": [
              "<Figure size 432x288 with 1 Axes>"
            ]
          },
          "metadata": {
            "tags": [],
            "needs_background": "light"
          }
        }
      ]
    },
    {
      "cell_type": "code",
      "metadata": {
        "id": "oYf12tnabzsN"
      },
      "source": [
        ""
      ],
      "execution_count": null,
      "outputs": []
    }
  ]
}