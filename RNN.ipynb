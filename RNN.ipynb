{
  "nbformat": 4,
  "nbformat_minor": 0,
  "metadata": {
    "colab": {
      "name": "RNN.ipynb",
      "provenance": [],
      "include_colab_link": true
    },
    "kernelspec": {
      "name": "python3",
      "display_name": "Python 3"
    }
  },
  "cells": [
    {
      "cell_type": "markdown",
      "metadata": {
        "id": "view-in-github",
        "colab_type": "text"
      },
      "source": [
        "<a href=\"https://colab.research.google.com/github/zahraDehghanian97/stock_market/blob/master/RNN.ipynb\" target=\"_parent\"><img src=\"https://colab.research.google.com/assets/colab-badge.svg\" alt=\"Open In Colab\"/></a>"
      ]
    },
    {
      "cell_type": "code",
      "metadata": {
        "id": "nesZtU3N1bld"
      },
      "source": [
        "import pandas as pd\r\n",
        "from keras.layers.core import Dense, Dropout\r\n",
        "from keras.layers.recurrent import GRU\r\n",
        "from keras.models import Sequential, load_model\r\n",
        "import matplotlib.pyplot as plt\r\n",
        "import numpy as np\r\n",
        "from sklearn.model_selection import train_test_split\r\n",
        "from sklearn.preprocessing import MinMaxScaler\r\n",
        "\r\n",
        "prices = pd.read_csv('prices_stock.csv', index_col=['date'])\r\n",
        "\r\n",
        "# selecting YHOO stocks\r\n",
        "yahoo = prices[prices['symbol']=='YHOO']\r\n",
        "\r\n",
        "# preparing input features\r\n",
        "yahoo = yahoo.drop(['symbol'], axis=1)\r\n",
        "yahoo = yahoo.drop(['volume'], axis=1)\r\n",
        "yahoo = yahoo[['open', 'low', 'high', 'close']]\r\n",
        "\r\n",
        "# preparing label data\r\n",
        "yahoo_shift = yahoo.shift(-1)\r\n",
        "label = yahoo_shift['close']\r\n",
        "\r\n",
        "# adjusting the shape of both\r\n",
        "yahoo.drop(yahoo.index[len(yahoo)-1], axis=0, inplace=True)\r\n",
        "label.drop(label.index[len(label)-1], axis=0, inplace=True)\r\n",
        "\r\n",
        "# conversion to numpy array\r\n",
        "x, y = yahoo.values, label.values\r\n",
        "\r\n",
        "# scaling values for model\r\n",
        "x_scale = MinMaxScaler()\r\n",
        "y_scale = MinMaxScaler()\r\n",
        "\r\n",
        "X = x_scale.fit_transform(x)\r\n",
        "Y = y_scale.fit_transform(y.reshape(-1,1))\r\n",
        "\r\n",
        "# splitting train and test\r\n",
        "X_train, X_test, y_train, y_test = train_test_split(X, Y, test_size=0.33)\r\n",
        "X_train = X_train.reshape((-1,1,4))\r\n",
        "X_test = X_test.reshape((-1,1,4))\r\n",
        "\r\n",
        "# creating model using Keras\r\n",
        "# tf.reset_default_graph()\r\n",
        "\r\n",
        "model_name = 'stock_price_GRU'\r\n",
        "\r\n",
        "model = Sequential()\r\n",
        "model.add(GRU(units=512,\r\n",
        "              return_sequences=True,\r\n",
        "              input_shape=(1, 4)))\r\n",
        "model.add(Dropout(0.2))\r\n",
        "model.add(GRU(units=256))\r\n",
        "model.add(Dropout(0.2))\r\n",
        "model.add(Dense(1, activation='sigmoid'))\r\n",
        "model.compile(loss='mse', optimizer='adam')\r\n",
        "\r\n",
        "# model = load_model(\"{}.h5\".format(model_name))\r\n",
        "# print(\"MODEL-LOADED\")\r\n",
        "\r\n",
        "model.fit(X_train,y_train,batch_size=250, epochs=500, validation_split=0.1, verbose=1)\r\n",
        "model.save(\"{}.h5\".format(model_name))\r\n",
        "print('MODEL-SAVED')\r\n",
        "\r\n",
        "score = model.evaluate(X_test, y_test)\r\n",
        "print('Score: {}'.format(score))\r\n",
        "yhat = model.predict(X_test)\r\n",
        "yhat = y_scale.inverse_transform(yhat)\r\n",
        "y_test = y_scale.inverse_transform(y_test)\r\n",
        "plt.plot(yhat[-100:], label='Predicted')\r\n",
        "plt.plot(y_test[-100:], label='Ground Truth')\r\n",
        "plt.legend()\r\n",
        "plt.show()"
      ],
      "execution_count": null,
      "outputs": []
    }
  ]
}