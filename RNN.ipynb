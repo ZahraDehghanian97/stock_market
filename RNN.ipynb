{
  "nbformat": 4,
  "nbformat_minor": 0,
  "metadata": {
    "colab": {
      "name": "RNN.ipynb",
      "provenance": [],
      "include_colab_link": true
    },
    "kernelspec": {
      "name": "python3",
      "display_name": "Python 3"
    }
  },
  "cells": [
    {
      "cell_type": "markdown",
      "metadata": {
        "id": "view-in-github",
        "colab_type": "text"
      },
      "source": [
        "<a href=\"https://colab.research.google.com/github/zahraDehghanian97/stock_market/blob/master/RNN.ipynb\" target=\"_parent\"><img src=\"https://colab.research.google.com/assets/colab-badge.svg\" alt=\"Open In Colab\"/></a>"
      ]
    },
    {
      "cell_type": "code",
      "metadata": {
        "id": "nesZtU3N1bld"
      },
      "source": [
        "import pandas as pd\r\n",
        "from keras.layers.core import Dense, Dropout\r\n",
        "from keras.layers.recurrent import GRU\r\n",
        "from keras.models import Sequential, load_model\r\n",
        "import matplotlib.pyplot as plt\r\n",
        "import numpy as np\r\n",
        "from sklearn.model_selection import train_test_split\r\n",
        "from sklearn.preprocessing import MinMaxScaler\r\n",
        "import glob\r\n"
      ],
      "execution_count": 9,
      "outputs": []
    },
    {
      "cell_type": "code",
      "metadata": {
        "id": "EbVkm4Aob13B",
        "colab": {
          "base_uri": "https://localhost:8080/"
        },
        "outputId": "a19d7035-b11d-4ba4-a384-9161d6f78f94"
      },
      "source": [
        "! curl -L https://api.github.com/repos/zahraDehghanian97/stock_market/tarball --output repo.tar\r\n",
        "! tar xf repo.tar --wildcards \"*/tickers_data/*.csv\" --strip-components=1 \r\n",
        "! rm -rf repo.tar\r\n"
      ],
      "execution_count": 7,
      "outputs": [
        {
          "output_type": "stream",
          "text": [
            "  % Total    % Received % Xferd  Average Speed   Time    Time     Time  Current\n",
            "                                 Dload  Upload   Total   Spent    Left  Speed\n",
            "  0     0    0     0    0     0      0      0 --:--:-- --:--:-- --:--:--     0\n",
            "100 7402k    0 7402k    0     0  4661k      0 --:--:--  0:00:01 --:--:-- 5469k\n"
          ],
          "name": "stdout"
        }
      ]
    },
    {
      "cell_type": "code",
      "metadata": {
        "id": "OLfn4yeYb6Ii",
        "colab": {
          "base_uri": "https://localhost:8080/"
        },
        "outputId": "04f22232-b598-4ec1-aa1c-59870c101b5d"
      },
      "source": [
        "def load_df_from_csv(dir_name:str) -> dict:\r\n",
        "  stocks = {}\r\n",
        "  for file_name in sorted(glob.glob(dir_name+'/*.csv')):\r\n",
        "    df = pd.read_csv(file_name,names=['close'])\r\n",
        "    dataset_name = file_name.split(\"/\")[1].split(\".csv\")[0]\r\n",
        "    print(dataset_name)\r\n",
        "    stocks[dataset_name] = df\r\n",
        "  return stocks\r\n",
        "\r\n",
        "stocks = load_df_from_csv(dir_name=\"tickers_data\")\r\n"
      ],
      "execution_count": 10,
      "outputs": [
        {
          "output_type": "stream",
          "text": [
            "/usr/local/lib/python3.7/dist-packages/IPython/core/interactiveshell.py:2822: DtypeWarning: Columns (2,3,4,5,6) have mixed types.Specify dtype option on import or set low_memory=False.\n",
            "  if self.run_code(code, result):\n"
          ],
          "name": "stderr"
        },
        {
          "output_type": "stream",
          "text": [
            "prices_stock_yahoo\n",
            "خچرخش\n",
            "شپنا\n"
          ],
          "name": "stdout"
        }
      ]
    },
    {
      "cell_type": "code",
      "metadata": {
        "id": "RnsLE8RRbp1n",
        "outputId": "db7890e4-814e-408f-84fa-477d4a98c5fa",
        "colab": {
          "base_uri": "https://localhost:8080/",
          "height": 244
        }
      },
      "source": [
        "prices = pd.read_csv('prices_stock_yahoo.csv', index_col=['date'])\r\n",
        "# selecting YHOO stocks\r\n",
        "yahoo = prices[prices['symbol']=='YHOO']\r\n",
        "\r\n",
        "# preparing input features\r\n",
        "yahoo = yahoo.drop(['symbol'], axis=1)\r\n",
        "yahoo = yahoo.drop(['volume'], axis=1)\r\n",
        "yahoo = yahoo[['open', 'low', 'high', 'close']]\r\n",
        "\r\n",
        "# preparing label data\r\n",
        "yahoo_shift = yahoo.shift(-1)\r\n",
        "label = yahoo_shift['close']\r\n",
        "\r\n",
        "# adjusting the shape of both\r\n",
        "yahoo.drop(yahoo.index[len(yahoo)-1], axis=0, inplace=True)\r\n",
        "label.drop(label.index[len(label)-1], axis=0, inplace=True)\r\n",
        "\r\n",
        "# conversion to numpy array\r\n",
        "x, y = yahoo.values, label.values\r\n",
        "\r\n",
        "# scaling values for model\r\n",
        "x_scale = MinMaxScaler()\r\n",
        "y_scale = MinMaxScaler()\r\n",
        "\r\n",
        "X = x_scale.fit_transform(x)\r\n",
        "Y = y_scale.fit_transform(y.reshape(-1,1))\r\n",
        "\r\n",
        "# splitting train and test\r\n",
        "X_train, X_test, y_train, y_test = train_test_split(X, Y, test_size=0.33)\r\n",
        "X_train = X_train.reshape((-1,1,4))\r\n",
        "X_test = X_test.reshape((-1,1,4))\r\n",
        "\r\n",
        "# creating model using Keras\r\n",
        "# tf.reset_default_graph()\r\n",
        "\r\n",
        "model_name = 'stock_price_GRU'\r\n",
        "\r\n",
        "model = Sequential()\r\n",
        "model.add(GRU(units=512,\r\n",
        "              return_sequences=True,\r\n",
        "              input_shape=(1, 4)))\r\n",
        "model.add(Dropout(0.2))\r\n",
        "model.add(GRU(units=256))\r\n",
        "model.add(Dropout(0.2))\r\n",
        "model.add(Dense(1, activation='sigmoid'))\r\n",
        "model.compile(loss='mse', optimizer='adam')\r\n",
        "\r\n",
        "# model = load_model(\"{}.h5\".format(model_name))\r\n",
        "# print(\"MODEL-LOADED\")\r\n",
        "\r\n",
        "model.fit(X_train,y_train,batch_size=250, epochs=500, validation_split=0.1, verbose=1)\r\n",
        "model.save(\"{}.h5\".format(model_name))\r\n",
        "print('MODEL-SAVED')\r\n",
        "\r\n",
        "score = model.evaluate(X_test, y_test)\r\n",
        "print('Score: {}'.format(score))\r\n",
        "yhat = model.predict(X_test)\r\n",
        "yhat = y_scale.inverse_transform(yhat)\r\n",
        "y_test = y_scale.inverse_transform(y_test)\r\n",
        "plt.plot(yhat[-100:], label='Predicted')\r\n",
        "plt.plot(y_test[-100:], label='Ground Truth')\r\n",
        "plt.legend()\r\n",
        "plt.show()"
      ],
      "execution_count": 16,
      "outputs": [
        {
          "output_type": "error",
          "ename": "NameError",
          "evalue": "ignored",
          "traceback": [
            "\u001b[0;31m---------------------------------------------------------------------------\u001b[0m",
            "\u001b[0;31mNameError\u001b[0m                                 Traceback (most recent call last)",
            "\u001b[0;32m<ipython-input-16-ea7c8d682333>\u001b[0m in \u001b[0;36m<module>\u001b[0;34m()\u001b[0m\n\u001b[1;32m      1\u001b[0m \u001b[0;31m# prices = pd.read_csv('prices_stock_yahoo.csv', index_col=['date'])\u001b[0m\u001b[0;34m\u001b[0m\u001b[0;34m\u001b[0m\u001b[0;34m\u001b[0m\u001b[0m\n\u001b[0;32m----> 2\u001b[0;31m \u001b[0mprices\u001b[0m \u001b[0;34m=\u001b[0m \u001b[0mread_csv\u001b[0m\u001b[0;34m(\u001b[0m\u001b[0;34m'prices_stock_yahoo.csv'\u001b[0m\u001b[0;34m,\u001b[0m \u001b[0mindex_col\u001b[0m\u001b[0;34m=\u001b[0m\u001b[0;34m[\u001b[0m\u001b[0;34m'date'\u001b[0m\u001b[0;34m]\u001b[0m\u001b[0;34m)\u001b[0m\u001b[0;34m\u001b[0m\u001b[0;34m\u001b[0m\u001b[0m\n\u001b[0m\u001b[1;32m      3\u001b[0m \u001b[0;31m# selecting YHOO stocks\u001b[0m\u001b[0;34m\u001b[0m\u001b[0;34m\u001b[0m\u001b[0;34m\u001b[0m\u001b[0m\n\u001b[1;32m      4\u001b[0m \u001b[0myahoo\u001b[0m \u001b[0;34m=\u001b[0m \u001b[0mprices\u001b[0m\u001b[0;34m[\u001b[0m\u001b[0mprices\u001b[0m\u001b[0;34m[\u001b[0m\u001b[0;34m'symbol'\u001b[0m\u001b[0;34m]\u001b[0m\u001b[0;34m==\u001b[0m\u001b[0;34m'YHOO'\u001b[0m\u001b[0;34m]\u001b[0m\u001b[0;34m\u001b[0m\u001b[0;34m\u001b[0m\u001b[0m\n\u001b[1;32m      5\u001b[0m \u001b[0;34m\u001b[0m\u001b[0m\n",
            "\u001b[0;31mNameError\u001b[0m: name 'read_csv' is not defined"
          ]
        }
      ]
    },
    {
      "cell_type": "code",
      "metadata": {
        "id": "oYf12tnabzsN"
      },
      "source": [
        ""
      ],
      "execution_count": null,
      "outputs": []
    }
  ]
}