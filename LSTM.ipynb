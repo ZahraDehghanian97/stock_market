{
  "nbformat": 4,
  "nbformat_minor": 0,
  "metadata": {
    "colab": {
      "name": "LSTM.ipynb",
      "provenance": [],
      "include_colab_link": true
    },
    "kernelspec": {
      "name": "python3",
      "display_name": "Python 3"
    }
  },
  "cells": [
    {
      "cell_type": "markdown",
      "metadata": {
        "id": "view-in-github",
        "colab_type": "text"
      },
      "source": [
        "<a href=\"https://colab.research.google.com/github/zahraDehghanian97/stock_market/blob/master/LSTM.ipynb\" target=\"_parent\"><img src=\"https://colab.research.google.com/assets/colab-badge.svg\" alt=\"Open In Colab\"/></a>"
      ]
    },
    {
      "cell_type": "markdown",
      "metadata": {
        "id": "ERbu0Ea1zioS"
      },
      "source": [
        "pip"
      ]
    },
    {
      "cell_type": "code",
      "metadata": {
        "id": "RJvwwtlczn2P"
      },
      "source": [
        "pip install nsepy"
      ],
      "execution_count": null,
      "outputs": []
    },
    {
      "cell_type": "code",
      "metadata": {
        "id": "20pYZuMjXcjh"
      },
      "source": [
        "from nsepy import get_history as gh\r\n",
        "import datetime as dt\r\n",
        "from matplotlib import pyplot as plt\r\n",
        "from sklearn import model_selection\r\n",
        "from sklearn.metrics import confusion_matrix\r\n",
        "from sklearn.preprocessing import StandardScaler\r\n",
        "from sklearn.model_selection import train_test_split\r\n",
        "import numpy as np\r\n",
        "import pandas as pd\r\n",
        "from sklearn.preprocessing import MinMaxScaler\r\n",
        "from keras.models import Sequential\r\n",
        "from keras.layers import Dense\r\n",
        "from keras.layers import LSTM\r\n",
        "from keras.layers import Dropout"
      ],
      "execution_count": 3,
      "outputs": []
    },
    {
      "cell_type": "code",
      "metadata": {
        "id": "yQ-pS1_Jz06p"
      },
      "source": [
        "start = dt.datetime(2013,1,1)\r\n",
        "end = dt.datetime(2018,12,31)\r\n",
        "stk_data = gh(symbol='SBIN',start=start,end=end)"
      ],
      "execution_count": null,
      "outputs": []
    },
    {
      "cell_type": "code",
      "metadata": {
        "id": "obkXIfZBywlB"
      },
      "source": [
        "plt.figure(figsize=(14,14))\r\n",
        "plt.plot(stk_data['Close'])\r\n",
        "plt.title('Historical Stock Value')\r\n",
        "plt.xlabel('Date')\r\n",
        "plt.ylabel('Stock Price')\r\n",
        "plt.show()"
      ],
      "execution_count": null,
      "outputs": []
    },
    {
      "cell_type": "code",
      "metadata": {
        "id": "sY4hdGX1y4G7"
      },
      "source": [
        "stk_data['Date'] = stk_data.index\r\n",
        "data2 = pd.DataFrame(columns = ['Date', 'Open', 'High', 'Low', 'Close'])\r\n",
        "data2['Date'] = stk_data['Date']\r\n",
        "data2['Open'] = stk_data['Open']\r\n",
        "data2['High'] = stk_data['High']\r\n",
        "data2['Low'] = stk_data['Low']\r\n",
        "data2['Close'] = stk_data['Close']"
      ],
      "execution_count": null,
      "outputs": []
    },
    {
      "cell_type": "code",
      "metadata": {
        "id": "yXiTRi2vy87j"
      },
      "source": [
        "train_set = data2.iloc[:, 1:2].values\r\n",
        "sc = MinMaxScaler(feature_range = (0, 1))\r\n",
        "training_set_scaled = sc.fit_transform(train_set)\r\n",
        "X_train = []\r\n",
        "y_train = []\r\n",
        "for i in range(60, 1482):\r\n",
        "    X_train.append(training_set_scaled[i-60:i, 0])\r\n",
        "    y_train.append(training_set_scaled[i, 0]) \r\n",
        "X_train, y_train = np.array(X_train), np.array(y_train)\r\n",
        "X_train = np.reshape(X_train, (X_train.shape[0], X_train.shape[1], 1))"
      ],
      "execution_count": null,
      "outputs": []
    },
    {
      "cell_type": "code",
      "metadata": {
        "id": "MMta7fPxzAqb"
      },
      "source": [
        "regressor = Sequential()\r\n",
        "regressor.add(LSTM(units = 50, return_sequences = True, input_shape = (X_train.shape[1], 1)))\r\n",
        "regressor.add(Dropout(0.2))\r\n",
        "regressor.add(LSTM(units = 50, return_sequences = True))\r\n",
        "regressor.add(Dropout(0.2))\r\n",
        "regressor.add(LSTM(units = 50, return_sequences = True))\r\n",
        "regressor.add(Dropout(0.2))\r\n",
        "regressor.add(LSTM(units = 50))\r\n",
        "regressor.add(Dropout(0.2))\r\n",
        "regressor.add(Dense(units = 1))"
      ],
      "execution_count": null,
      "outputs": []
    },
    {
      "cell_type": "code",
      "metadata": {
        "id": "0W5GYzm2zGid"
      },
      "source": [
        "egressor.compile(optimizer = 'adam', loss = 'mean_squared_error')\r\n",
        "regressor.fit(X_train, y_train, epochs = 15, batch_size = 32)"
      ],
      "execution_count": null,
      "outputs": []
    },
    {
      "cell_type": "code",
      "metadata": {
        "id": "RT8Cnkp5zJA7"
      },
      "source": [
        "testdataframe= gh(symbol='SBIN',start=dt.datetime(2019,1,1),end=dt.datetime(2019,9,18))\r\n",
        "testdataframe['Date'] = testdataframe.index\r\n",
        "testdata = pd.DataFrame(columns = ['Date', 'Open', 'High', 'Low', 'Close'])\r\n",
        "testdata['Date'] = testdataframe['Date']\r\n",
        "testdata['Open'] = testdataframe['Open']\r\n",
        "testdata['High'] = testdataframe['High']\r\n",
        "testdata['Low'] = testdataframe['Low']\r\n",
        "testdata['Close'] = testdataframe['Close']\r\n",
        "real_stock_price = testdata.iloc[:, 1:2].values\r\n",
        "dataset_total = pd.concat((data2['Open'], testdata['Open']), axis = 0)\r\n",
        "inputs = dataset_total[len(dataset_total) - len(testdata) - 60:].values\r\n",
        "inputs = inputs.reshape(-1,1)\r\n",
        "inputs = sc.transform(inputs)\r\n",
        "X_test = []\r\n",
        "for i in range(60, 235):\r\n",
        "    X_test.append(inputs[i-60:i, 0])\r\n",
        "X_test = np.array(X_test)\r\n",
        "X_test = np.reshape(X_test, (X_test.shape[0], X_test.shape[1], 1))"
      ],
      "execution_count": null,
      "outputs": []
    },
    {
      "cell_type": "code",
      "metadata": {
        "id": "0SqEHBHFzQl0"
      },
      "source": [
        "predicted_stock_price = regressor.predict(X_test)\r\n",
        "predicted_stock_price = sc.inverse_transform(predicted_stock_price)"
      ],
      "execution_count": null,
      "outputs": []
    },
    {
      "cell_type": "code",
      "metadata": {
        "id": "eFCJLWMizYNb"
      },
      "source": [
        "plt.figure(figsize=(20,10))\r\n",
        "plt.plot(real_stock_price, color = 'green', label = 'SBI Stock Price')\r\n",
        "plt.plot(predicted_stock_price, color = 'red', label = 'Predicted SBI Stock Price')\r\n",
        "plt.title('SBI Stock Price Prediction')\r\n",
        "plt.xlabel('Trading Day')\r\n",
        "plt.ylabel('SBI Stock Price')\r\n",
        "plt.legend()\r\n",
        "plt.show()"
      ],
      "execution_count": null,
      "outputs": []
    }
  ]
}