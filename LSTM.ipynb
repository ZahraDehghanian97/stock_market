{
  "nbformat": 4,
  "nbformat_minor": 0,
  "metadata": {
    "colab": {
      "name": "LSTM.ipynb",
      "provenance": [],
      "include_colab_link": true
    },
    "kernelspec": {
      "name": "python3",
      "display_name": "Python 3"
    }
  },
  "cells": [
    {
      "cell_type": "markdown",
      "metadata": {
        "id": "view-in-github",
        "colab_type": "text"
      },
      "source": [
        "<a href=\"https://colab.research.google.com/github/zahraDehghanian97/stock_market/blob/master/LSTM.ipynb\" target=\"_parent\"><img src=\"https://colab.research.google.com/assets/colab-badge.svg\" alt=\"Open In Colab\"/></a>"
      ]
    },
    {
      "cell_type": "markdown",
      "metadata": {
        "id": "ERbu0Ea1zioS"
      },
      "source": [
        "pip"
      ]
    },
    {
      "cell_type": "code",
      "metadata": {
        "id": "20pYZuMjXcjh"
      },
      "source": [
        "import datetime as dt\r\n",
        "from matplotlib import pyplot as plt\r\n",
        "from sklearn import model_selection\r\n",
        "from sklearn.metrics import confusion_matrix\r\n",
        "from sklearn.preprocessing import StandardScaler\r\n",
        "from sklearn.model_selection import train_test_split\r\n",
        "import numpy as np\r\n",
        "import pandas as pd\r\n",
        "from sklearn.preprocessing import MinMaxScaler\r\n",
        "from keras.models import Sequential\r\n",
        "from keras.layers import Dense\r\n",
        "from keras.layers import LSTM\r\n",
        "from keras.layers import Dropout\r\n",
        "import glob"
      ],
      "execution_count": 3,
      "outputs": []
    },
    {
      "cell_type": "code",
      "metadata": {
        "id": "jplOlpqq6VRT",
        "colab": {
          "base_uri": "https://localhost:8080/"
        },
        "outputId": "51adfd84-ee21-46e2-9993-45935e00a257"
      },
      "source": [
        "! curl -L https://api.github.com/repos/zahraDehghanian97/stock_market/tarball --output repo.tar\r\n",
        "! tar xf repo.tar --wildcards \"*/tickers_data/*.csv\" --strip-components=1 \r\n",
        "! rm -rf repo.tar"
      ],
      "execution_count": 4,
      "outputs": [
        {
          "output_type": "stream",
          "text": [
            "  % Total    % Received % Xferd  Average Speed   Time    Time     Time  Current\n",
            "                                 Dload  Upload   Total   Spent    Left  Speed\n",
            "  0     0    0     0    0     0      0      0 --:--:-- --:--:-- --:--:--     0\n",
            "100 15.1M    0 15.1M    0     0  6687k      0 --:--:--  0:00:02 --:--:-- 8027k\n"
          ],
          "name": "stdout"
        }
      ]
    },
    {
      "cell_type": "code",
      "metadata": {
        "id": "azAdjjuy6e9D",
        "colab": {
          "base_uri": "https://localhost:8080/"
        },
        "outputId": "ffce4dbc-a8e5-4d86-ed25-a9ab418b8535"
      },
      "source": [
        "def load_df_from_csv(dir_name:str) -> dict:\r\n",
        "  stocks = {}\r\n",
        "  for file_name in sorted(glob.glob(dir_name+'/*.csv')):\r\n",
        "    df = pd.read_csv(file_name,names=['close'])\r\n",
        "    dataset_name = file_name.split(\"/\")[1].split(\".csv\")[0]\r\n",
        "    print(dataset_name)\r\n",
        "    stocks[dataset_name] = df\r\n",
        "  return stocks\r\n",
        "\r\n",
        "stocks = load_df_from_csv(dir_name=\"tickers_data\")\r\n",
        "\r\n",
        "def evaluate_performance(testing_actual, testing_predict):\r\n",
        "    counter = 0\r\n",
        "    for i in range(len(testing_actual)-1):\r\n",
        "        predict=testing_predict[i+1]- testing_predict[i]\r\n",
        "        actual = testing_actual[i+1]-testing_actual[i]\r\n",
        "        if (actual > 0 and predict > 0) or (actual < 0 and predict < 0):\r\n",
        "            counter+=1\r\n",
        "    counter = round((counter / (len(testing_actual)-1))*100,2)\r\n",
        "    return counter\r\n"
      ],
      "execution_count": 5,
      "outputs": [
        {
          "output_type": "stream",
          "text": [
            "/usr/local/lib/python3.7/dist-packages/IPython/core/interactiveshell.py:2822: DtypeWarning: Columns (2,3,4,5,6) have mixed types.Specify dtype option on import or set low_memory=False.\n",
            "  if self.run_code(code, result):\n"
          ],
          "name": "stderr"
        },
        {
          "output_type": "stream",
          "text": [
            "prices_stock_yahoo\n",
            "خچرخش\n",
            "شپنا\n"
          ],
          "name": "stdout"
        }
      ]
    },
    {
      "cell_type": "code",
      "metadata": {
        "id": "jVgSMf4L7cbq"
      },
      "source": [
        "prices = pd.read_csv('tickers_data/شپنا.csv', index_col=['date'])\r\n",
        "prices = prices[[ 'open', 'high', 'low', 'close']]"
      ],
      "execution_count": 11,
      "outputs": []
    },
    {
      "cell_type": "code",
      "metadata": {
        "id": "xhbLNij0YJFI"
      },
      "source": [
        "\r\n",
        "# preparing label data\r\n",
        "prices_shift = prices.shift(-1)\r\n",
        "label = prices_shift['close']\r\n",
        "\r\n",
        "# adjusting the shape of both\r\n",
        "prices.drop(prices.index[len(prices)-1], axis=0, inplace=True)\r\n",
        "label.drop(label.index[len(label)-1], axis=0, inplace=True)\r\n",
        "\r\n",
        "# conversion to numpy array\r\n",
        "x, y = prices.values, label.values\r\n",
        "# scaling values for model\r\n",
        "x_scale = MinMaxScaler()\r\n",
        "y_scale = MinMaxScaler()\r\n",
        "X = x_scale.fit_transform(x)\r\n",
        "Y = y_scale.fit_transform(y.reshape(-1,1))\r\n",
        "# splitting train and test\r\n",
        "X_train, X_test, y_train, y_test = train_test_split(X, Y, test_size=0.33)\r\n",
        "X_train = X_train.reshape((-1,1,4))\r\n",
        "X_test = X_test.reshape((-1,1,4))\r\n",
        "# change today result with tomorrow to lean param tomorrow\r\n",
        "X_train = X_train [:-1]\r\n",
        "y_train = y_train[1:]\r\n",
        "y_test = y_test[1:]\r\n"
      ],
      "execution_count": 19,
      "outputs": []
    },
    {
      "cell_type": "code",
      "metadata": {
        "id": "MMta7fPxzAqb",
        "colab": {
          "base_uri": "https://localhost:8080/"
        },
        "outputId": "92c08392-fda2-4944-944d-a44263837972"
      },
      "source": [
        "model_name = 'regressor'\r\n",
        "regressor = Sequential()\r\n",
        "regressor.add(LSTM(units = 50, return_sequences = True, input_shape = (1, 4)))\r\n",
        "regressor.add(Dropout(0.2))\r\n",
        "regressor.add(LSTM(units = 50, return_sequences = True))\r\n",
        "regressor.add(Dropout(0.2))\r\n",
        "regressor.add(LSTM(units = 50, return_sequences = True))\r\n",
        "regressor.add(Dropout(0.2))\r\n",
        "regressor.add(LSTM(units = 50))\r\n",
        "regressor.add(Dropout(0.2))\r\n",
        "regressor.add(Dense(units = 1))\r\n",
        "regressor.compile(optimizer = 'adam', loss = 'mean_squared_error')\r\n",
        "regressor.fit(X_train, y_train, epochs = 50, batch_size = 250 ,validation_split=0.1, verbose=0)\r\n",
        "regressor.save(\"{}.h5\".format(model_name))\r\n",
        "print('MODEL-SAVED')"
      ],
      "execution_count": 25,
      "outputs": [
        {
          "output_type": "stream",
          "text": [
            "MODEL-SAVED\n"
          ],
          "name": "stdout"
        }
      ]
    },
    {
      "cell_type": "code",
      "metadata": {
        "colab": {
          "base_uri": "https://localhost:8080/",
          "height": 380
        },
        "id": "EY4r77Zlaaqk",
        "outputId": "34b3d1e1-4532-46f2-bf04-5ea3cabb5fb3"
      },
      "source": [
        "\r\n",
        "# # load model\r\n",
        "# model = load_model(\"{}.h5\".format(model_name))\r\n",
        "# print(\"MODEL-LOADED\")\r\n",
        "\r\n",
        "x_test = X_test[:-1]\r\n",
        "score = regressor.evaluate(x_test, y_test)\r\n",
        "print('Score: {}'.format(score))\r\n",
        "\r\n",
        "yhat = regressor.predict(X_test)\r\n",
        "if yhat[-1]>yhat[-2] :\r\n",
        "   prediction_today = 1\r\n",
        "else : \r\n",
        "  prediction_today = -1\r\n",
        "yhat = yhat [:-1]\r\n",
        "print(\"-------------------------------\")\r\n",
        "print('evaluating performance...')\r\n",
        "accuracy_model = evaluate_performance(y_test, yhat)\r\n",
        "print('Testing Accuracy: ', accuracy_model,\"%\")\r\n",
        "\r\n",
        "print('Prediction for today: ', prediction_today)\r\n",
        "\r\n",
        "yhat = y_scale.inverse_transform(yhat)\r\n",
        "y_test = y_scale.inverse_transform(y_test)\r\n",
        "plt.plot(yhat[-100:], label='Predicted')\r\n",
        "plt.plot(y_test[-100:], label='Ground Truth')\r\n",
        "plt.legend()\r\n",
        "plt.show()"
      ],
      "execution_count": 26,
      "outputs": [
        {
          "output_type": "stream",
          "text": [
            "24/24 [==============================] - 0s 2ms/step - loss: 767843360884918651193393152.0000\n",
            "Score: 7.678433608849187e+26\n",
            "-------------------------------\n",
            "evaluating performance...\n",
            "Testing Accuracy:  30.96 %\n",
            "Prediction for today:  1\n"
          ],
          "name": "stdout"
        },
        {
          "output_type": "display_data",
          "data": {
            "image/png": "[encoded data removed]",
            "text/plain": [
              "<Figure size 432x288 with 1 Axes>"
            ]
          },
          "metadata": {
            "tags": [],
            "needs_background": "light"
          }
        }
      ]
    }
  ]
}