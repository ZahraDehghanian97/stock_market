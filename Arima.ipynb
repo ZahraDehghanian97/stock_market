{
  "nbformat": 4,
  "nbformat_minor": 0,
  "metadata": {
    "colab": {
      "name": "axiom.ipynb",
      "provenance": [],
      "include_colab_link": true
    },
    "kernelspec": {
      "name": "python3",
      "display_name": "Python 3"
    }
  },
  "cells": [
    {
      "cell_type": "markdown",
      "metadata": {
        "id": "view-in-github",
        "colab_type": "text"
      },
      "source": [
        "<a href=\"https://colab.research.google.com/github/zahraDehghanian97/stock_market/blob/master/Arima.ipynb\" target=\"_parent\"><img src=\"https://colab.research.google.com/assets/colab-badge.svg\" alt=\"Open In Colab\"/></a>"
      ]
    },
    {
      "cell_type": "markdown",
      "metadata": {
        "id": "oUmJsntbxl0U"
      },
      "source": [
        "prerequisit"
      ]
    },
    {
      "cell_type": "code",
      "metadata": {
        "id": "y_0dCTEUxlk6"
      },
      "source": [
        "pip install pytse_client"
      ],
      "execution_count": null,
      "outputs": []
    },
    {
      "cell_type": "markdown",
      "metadata": {
        "id": "LEQnj-L8xiwV"
      },
      "source": [
        "arima model"
      ]
    },
    {
      "cell_type": "code",
      "metadata": {
        "id": "rczQ_TXLn2dh",
        "colab": {
          "base_uri": "https://localhost:8080/"
        },
        "outputId": "92c7f27f-c61a-4ae2-dc89-94928c5a7b5b"
      },
      "source": [
        "import warnings\r\n",
        "from matplotlib import pyplot\r\n",
        "from sklearn.metrics import mean_squared_error\r\n",
        "from statsmodels.tsa.arima_model import ARIMA\r\n",
        "import pytse_client as tse\r\n",
        "\r\n",
        "\r\n",
        "TRAINING_PERCENTAGE = 0.7\r\n",
        "TESTING_PERCENTAGE = 1 - TRAINING_PERCENTAGE\r\n",
        "NUMBER_OF_PREVIOUS_DATA_POINTS = 3\r\n",
        "LENGTH_DATA_SET = 0\r\n",
        "TRAINING_SET_LENGTH = 0\r\n",
        "TESTING_SET_LENGTH = 0\r\n",
        "\r\n",
        "\r\n",
        "def training_testing_buckets(raw_data, training_percentage, testing_percentage):\r\n",
        "    global TRAINING_SET_LENGTH, TESTING_SET_LENGTH\r\n",
        "    TRAINING_SET_LENGTH = int(LENGTH_DATA_SET * training_percentage)\r\n",
        "    TESTING_SET_LENGTH = LENGTH_DATA_SET - TRAINING_SET_LENGTH\r\n",
        "    training_set, testing_set = raw_data[0:TRAINING_SET_LENGTH], raw_data[TRAINING_SET_LENGTH:LENGTH_DATA_SET]\r\n",
        "    return training_set, testing_set\r\n",
        "\r\n",
        "\r\n",
        "def evaluate_performance_arima(testing_actual, testing_predict):\r\n",
        "    counter = 0\r\n",
        "    for i in range(len(testing_actual)-1):\r\n",
        "        predict=testing_predict[i+1]- testing_predict[i]\r\n",
        "        actual = testing_actual[i+1]-testing_actual[i]\r\n",
        "        if (actual > 0 and predict > 0) or (actual < 0 and predict < 0):\r\n",
        "            counter+=1\r\n",
        "    counter = round((counter / (len(testing_actual)-1))*100,2)\r\n",
        "    return counter\r\n",
        "    # return mean_squared_error(testing_actual, testing_predict)\r\n",
        "\r\n",
        "\r\n",
        "def plot_arima(currency, testing_actual, testing_predict, file_name):\r\n",
        "    actual = pyplot.plot(testing_actual, label=\"Actual data points\", color=\"blue\")\r\n",
        "    testing = pyplot.plot(testing_predict, label=\"Testing prediction\", color=\"green\")\r\n",
        "    pyplot.ylabel('currency values for 1 USD')\r\n",
        "    pyplot.xlabel('number of days')\r\n",
        "    pyplot.title( currency + ' : actual vs predicted ')\r\n",
        "    pyplot.legend()\r\n",
        "    pyplot.show()\r\n",
        "    pyplot.savefig(file_name)\r\n",
        "    pyplot.clf()\r\n",
        "\r\n",
        "\r\n",
        "def load_data_set(currency):\r\n",
        "    tse.download(symbols=stock_name)\r\n",
        "    ticker = tse.Ticker(stock_name)\r\n",
        "    data = ticker.history\r\n",
        "    raw_data = data.close.values.tolist()\r\n",
        "    global LENGTH_DATA_SET\r\n",
        "    LENGTH_DATA_SET = len(raw_data)\r\n",
        "    return raw_data\r\n",
        "\r\n",
        "\r\n",
        "def build_model_predict_arima(training_set, testing_set):\r\n",
        "    testing_predict = list()\r\n",
        "    training_predict = list(training_set)\r\n",
        "    for testing_set_index in range(TESTING_SET_LENGTH):\r\n",
        "        arima = ARIMA(training_predict, order=(5, 1, 0))\r\n",
        "        arima_model = arima.fit(disp=0)\r\n",
        "        forecasting = arima_model.forecast()[0].tolist()[0]\r\n",
        "        testing_predict.append(forecasting)\r\n",
        "        training_predict.append(testing_set[testing_set_index])\r\n",
        "        # print(\"Predicted = \", testing_predict[-1], \"Expected = \", testing_set[testing_set_index])\r\n",
        "    print('predicting...')\r\n",
        "    print(\"---------------------------\")\r\n",
        "    forcast = arima_model.forecast()[0]\r\n",
        "    print('The prediction for the next day:', forcast)\r\n",
        "    if forcast- testing_set[-1] > 0 : print(\"last result = +1\")\r\n",
        "    else :  print(\"last result = -1\")\r\n",
        "    print(\"---------------------------\")\r\n",
        "    return testing_predict\r\n",
        "\r\n",
        "\r\n",
        "def arima_model(currency):\r\n",
        "    print('\\nARIMA Model')\r\n",
        "\r\n",
        "    print('loading the dataset...')\r\n",
        "    raw_data = load_data_set(currency)\r\n",
        "\r\n",
        "    print('splitting training and testing set...')\r\n",
        "    training_actual_arima, testing_actual_arima = training_testing_buckets(raw_data, TRAINING_PERCENTAGE,\r\n",
        "                                                                           TESTING_PERCENTAGE)\r\n",
        "\r\n",
        "    print('building and training model...')\r\n",
        "    testing_predict_arima = build_model_predict_arima(training_actual_arima, testing_actual_arima)\r\n",
        "\r\n",
        "    print('evaluating performance...')\r\n",
        "    mse_arima = evaluate_performance_arima(testing_actual_arima, testing_predict_arima)\r\n",
        "    print('Testing Accuracy: ', mse_arima,\"%\")\r\n",
        "\r\n",
        "    with open(\"mse_arima.txt\", 'w') as mse_file:\r\n",
        "        mse_file.write(str(mse_arima) + '\\n')\r\n",
        "    print(\"------------------------\")\r\n",
        "    print('plotting the graph...')\r\n",
        "    plot_arima(currency, testing_actual_arima, testing_predict_arima, \"testing_prediction_arima.pdf\")\r\n",
        "\r\n",
        "    print('done...')\r\n",
        "    return raw_data, testing_predict_arima\r\n",
        "\r\n",
        "\r\n",
        "if __name__ == '__main__':\r\n",
        "    warnings.filterwarnings(\"ignore\")\r\n",
        "    # stock_name = input('Enter stock name:')\r\n",
        "    stock_name = 'شپنا'\r\n",
        "    arima_model(stock_name)  # setting the entry point\r\n"
      ],
      "execution_count": null,
      "outputs": [
        {
          "output_type": "stream",
          "text": [
            "\n",
            "ARIMA Model\n",
            "loading the dataset...\n"
          ],
          "name": "stdout"
        }
      ]
    },
    {
      "cell_type": "markdown",
      "metadata": {
        "id": "-4kkj6dFyKUg"
      },
      "source": [
        "test"
      ]
    },
    {
      "cell_type": "code",
      "metadata": {
        "id": "U6qM-HS4yMVM",
        "outputId": "8a6d267f-2ee6-42f4-be73-9cd656b6f83f",
        "colab": {
          "base_uri": "https://localhost:8080/"
        }
      },
      "source": [
        "print(\"hello\")"
      ],
      "execution_count": 1,
      "outputs": [
        {
          "output_type": "stream",
          "text": [
            "hello\n"
          ],
          "name": "stdout"
        }
      ]
    }
  ]
}