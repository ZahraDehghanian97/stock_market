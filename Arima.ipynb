{
  "nbformat": 4,
  "nbformat_minor": 0,
  "metadata": {
    "colab": {
      "name": "axiom.ipynb",
      "provenance": [],
      "include_colab_link": true
    },
    "kernelspec": {
      "name": "python3",
      "display_name": "Python 3"
    }
  },
  "cells": [
    {
      "cell_type": "markdown",
      "metadata": {
        "id": "view-in-github",
        "colab_type": "text"
      },
      "source": [
        "<a href=\"https://colab.research.google.com/github/zahraDehghanian97/stock_market/blob/master/Arima.ipynb\" target=\"_parent\"><img src=\"https://colab.research.google.com/assets/colab-badge.svg\" alt=\"Open In Colab\"/></a>"
      ]
    },
    {
      "cell_type": "code",
      "metadata": {
        "colab": {
          "base_uri": "https://localhost:8080/"
        },
        "id": "Jur80Q47czZP",
        "outputId": "78160465-4bc7-47a5-e8d8-11aac8875aad"
      },
      "source": [
        "! curl -L https://api.github.com/repos/zahraDehghanian97/stock_market/tarball --output repo.tar\r\n",
        "! tar xf repo.tar --wildcards \"*/tickers_data/*.csv\" --strip-components=2 \r\n",
        "! rm -rf repo.tar"
      ],
      "execution_count": 22,
      "outputs": [
        {
          "output_type": "stream",
          "text": [
            "  % Total    % Received % Xferd  Average Speed   Time    Time     Time  Current\n",
            "                                 Dload  Upload   Total   Spent    Left  Speed\n",
            "  0     0    0     0    0     0      0      0 --:--:-- --:--:-- --:--:--     0\n",
            "100  123k    0  123k    0     0   498k      0 --:--:-- --:--:-- --:--:--  498k\n"
          ],
          "name": "stdout"
        }
      ]
    },
    {
      "cell_type": "code",
      "metadata": {
        "colab": {
          "base_uri": "https://localhost:8080/"
        },
        "id": "WIk54PNCOxbK",
        "outputId": "2258dfa4-d303-461a-d3b6-643377ec0bd7"
      },
      "source": [
        "\r\n",
        "\r\n",
        "def load_df_from_csv(dir_name:str) -> dict:\r\n",
        "  stocks = {}\r\n",
        "  for file_name in sorted(glob.glob(dir_name+'/*.csv')):\r\n",
        "    df = pd.read_csv(file_name,names=['close'])\r\n",
        "    dataset_name = file_name.split(\"/\")[1].split(\".csv\")[0]\r\n",
        "    print(dataset_name)\r\n",
        "    stocks[dataset_name] = df\r\n",
        "  return stocks\r\n",
        "\r\n",
        "stocks = load_df_from_csv(dir_name=\"tickers_data\")\r\n",
        "\r\n"
      ],
      "execution_count": 25,
      "outputs": [
        {
          "output_type": "stream",
          "text": [
            "خچرخش\n",
            "شپنا\n"
          ],
          "name": "stdout"
        }
      ]
    },
    {
      "cell_type": "code",
      "metadata": {
        "id": "5voFj9smkjNu"
      },
      "source": [
        "# for key, value in stocks.items():\r\n",
        "#   df = stocks[key]\r\n",
        "#   close_data = df.close.values.tolist()\r\n",
        "#   print(close_data)\r\n",
        "\r\n",
        "def get_data(number_of_days):\r\n",
        "  df = stocks['خچرخش']\r\n",
        "  close_data = df.close.values.tolist()\r\n",
        "  len_data = len(close_data)-1\r\n",
        "  close_data = close_data[len_data-number_of_days:len_data]\r\n",
        "  new_data = []\r\n",
        "  for i in range(len(close_data)):\r\n",
        "    new_data.append(float(close_data[i]))\r\n",
        "  return new_data"
      ],
      "execution_count": 42,
      "outputs": []
    },
    {
      "cell_type": "code",
      "metadata": {
        "colab": {
          "base_uri": "https://localhost:8080/",
          "height": 1000
        },
        "id": "qj_g17tGjvSu",
        "outputId": "e19fc056-0734-457a-f8d9-3ccfe2d1a7c1"
      },
      "source": [
        "import warnings\r\n",
        "from matplotlib import pyplot\r\n",
        "from sklearn.metrics import mean_squared_error\r\n",
        "from statsmodels.tsa.arima_model import ARIMA\r\n",
        "import pytse_client as tse\r\n",
        "\r\n",
        "\r\n",
        "TRAINING_PERCENTAGE = 0.7\r\n",
        "TESTING_PERCENTAGE = 1 - TRAINING_PERCENTAGE\r\n",
        "NUMBER_OF_PREVIOUS_DATA_POINTS = 3\r\n",
        "LENGTH_DATA_SET = 0\r\n",
        "TRAINING_SET_LENGTH = 0\r\n",
        "TESTING_SET_LENGTH = 0\r\n",
        "\r\n",
        "\r\n",
        "def training_testing_buckets(raw_data, training_percentage, testing_percentage):\r\n",
        "    global TRAINING_SET_LENGTH, TESTING_SET_LENGTH\r\n",
        "    print()\r\n",
        "    TRAINING_SET_LENGTH = int(LENGTH_DATA_SET * training_percentage)\r\n",
        "    TESTING_SET_LENGTH = LENGTH_DATA_SET - TRAINING_SET_LENGTH\r\n",
        "    training_set, testing_set = raw_data[0:TRAINING_SET_LENGTH], raw_data[TRAINING_SET_LENGTH:LENGTH_DATA_SET]\r\n",
        "    return training_set, testing_set\r\n",
        "\r\n",
        "\r\n",
        "def evaluate_performance_arima(testing_actual, testing_predict):\r\n",
        "    counter = 0\r\n",
        "    for i in range(len(testing_actual)-1):\r\n",
        "        predict=testing_predict[i+1]- testing_predict[i]\r\n",
        "        actual = testing_actual[i+1]-testing_actual[i]\r\n",
        "        if (actual > 0 and predict > 0) or (actual < 0 and predict < 0):\r\n",
        "            counter+=1\r\n",
        "    counter = round((counter / (len(testing_actual)-1))*100,2)\r\n",
        "    return counter\r\n",
        "    # return mean_squared_error(testing_actual, testing_predict)\r\n",
        "\r\n",
        "\r\n",
        "def plot_arima(currency, testing_actual, testing_predict, file_name):\r\n",
        "    actual = pyplot.plot(testing_actual, label=\"Actual data points\", color=\"blue\")\r\n",
        "    testing = pyplot.plot(testing_predict, label=\"Testing prediction\", color=\"green\")\r\n",
        "    pyplot.ylabel('currency values for 1 USD')\r\n",
        "    pyplot.xlabel('number of days')\r\n",
        "    pyplot.title( currency + ' : actual vs predicted ')\r\n",
        "    pyplot.legend()\r\n",
        "    pyplot.show()\r\n",
        "    pyplot.savefig(file_name)\r\n",
        "    pyplot.clf()\r\n",
        "\r\n",
        "\r\n",
        "def load_data_set(currency):\r\n",
        "    # tse.download(symbols=stock_name)\r\n",
        "    ticker = tse.Ticker(stock_name)\r\n",
        "    data = ticker.history\r\n",
        "    raw_data = data.close.values.tolist()\r\n",
        "    global LENGTH_DATA_SET\r\n",
        "    LENGTH_DATA_SET = len(raw_data)\r\n",
        "    return raw_data\r\n",
        "\r\n",
        "\r\n",
        "def build_model_predict_arima(training_set, testing_set):\r\n",
        "    testing_predict = list()\r\n",
        "    training_predict = list(training_set)\r\n",
        "    print(\"hello\")\r\n",
        "    print(TESTING_SET_LENGTH)\r\n",
        "    for testing_set_index in range(TESTING_SET_LENGTH):\r\n",
        "        arima = ARIMA(training_predict, order=(5, 1, 0))\r\n",
        "        arima_model = arima.fit(disp=0)\r\n",
        "        forecasting = arima_model.forecast()[0].tolist()[0]\r\n",
        "        testing_predict.append(forecasting)\r\n",
        "        training_predict.append(testing_set[testing_set_index])\r\n",
        "        print(\"Predicted = \", testing_predict[-1], \"Expected = \", testing_set[testing_set_index])\r\n",
        "    print('predicting...')\r\n",
        "    print(\"---------------------------\")\r\n",
        "    forcast = arima_model.forecast()[0]\r\n",
        "    print('The prediction for the next day:', forcast)\r\n",
        "    if forcast- testing_set[-1] > 0 : print(\"last result = +1\")\r\n",
        "    else :  print(\"last result = -1\")\r\n",
        "    print(\"---------------------------\")\r\n",
        "    return testing_predict\r\n",
        "\r\n",
        "\r\n",
        "def arima_model(currency):\r\n",
        "    global LENGTH_DATA_SET\r\n",
        "    print('\\nARIMA Model')\r\n",
        "    print('loading the dataset...')\r\n",
        "    # raw_data = load_data_set(currency)\r\n",
        "    raw_data = get_data(300)\r\n",
        "    LENGTH_DATA_SET = len(raw_data)\r\n",
        "\r\n",
        "    print('splitting training and testing set...')\r\n",
        "    training_actual_arima, testing_actual_arima = training_testing_buckets(raw_data, TRAINING_PERCENTAGE,\r\n",
        "                                                                           TESTING_PERCENTAGE)\r\n",
        "\r\n",
        "    print('building and training model...')\r\n",
        "    testing_predict_arima = build_model_predict_arima(training_actual_arima, testing_actual_arima)\r\n",
        "\r\n",
        "    print('evaluating performance...')\r\n",
        "    mse_arima = evaluate_performance_arima(testing_actual_arima, testing_predict_arima)\r\n",
        "    print('Testing Accuracy: ', mse_arima,\"%\")\r\n",
        "\r\n",
        "    with open(\"mse_arima.txt\", 'w') as mse_file:\r\n",
        "        mse_file.write(str(mse_arima) + '\\n')\r\n",
        "    print(\"------------------------\")\r\n",
        "    print('plotting the graph...')\r\n",
        "    plot_arima(currency, testing_actual_arima, testing_predict_arima, \"testing_prediction_arima.pdf\")\r\n",
        "\r\n",
        "    print('done...')\r\n",
        "    return raw_data, testing_predict_arima\r\n",
        "\r\n",
        "\r\n",
        "if __name__ == '__main__':\r\n",
        "    warnings.filterwarnings(\"ignore\")\r\n",
        "    # stock_name = input('Enter stock name:')\r\n",
        "    stock_name = 'شپنا'\r\n",
        "    arima_model(stock_name)  # setting the entry point\r\n"
      ],
      "execution_count": 43,
      "outputs": [
        {
          "output_type": "stream",
          "text": [
            "\n",
            "ARIMA Model\n",
            "loading the dataset...\n",
            "splitting training and testing set...\n",
            "\n",
            "building and training model...\n",
            "hello\n",
            "90\n",
            "Predicted =  20160.474048137105 Expected =  20270.0\n",
            "Predicted =  20175.1580735849 Expected =  19380.0\n",
            "Predicted =  19291.803592564367 Expected =  18420.0\n",
            "Predicted =  18211.757809297625 Expected =  18330.0\n",
            "Predicted =  18061.073985060488 Expected =  18320.0\n",
            "Predicted =  18129.641109895634 Expected =  18320.0\n",
            "Predicted =  18275.581874797645 Expected =  18320.0\n",
            "Predicted =  18352.255160181357 Expected =  18310.0\n",
            "Predicted =  18344.21536810255 Expected =  18300.0\n",
            "Predicted =  18332.925028716956 Expected =  18290.0\n",
            "Predicted =  18321.28289716606 Expected =  18290.0\n",
            "Predicted =  18321.46787479515 Expected =  18290.0\n",
            "Predicted =  18322.927845182396 Expected =  18290.0\n",
            "Predicted =  18324.232088203305 Expected =  17330.0\n",
            "Predicted =  17253.332848262828 Expected =  18210.0\n",
            "Predicted =  18174.402008703437 Expected =  18210.0\n",
            "Predicted =  18238.78968777007 Expected =  18200.0\n",
            "Predicted =  18294.82407911088 Expected =  18200.0\n",
            "Predicted =  18301.88417286874 Expected =  18200.0\n",
            "Predicted =  18234.150015592666 Expected =  18190.0\n",
            "Predicted =  18222.64207745263 Expected =  18180.0\n",
            "Predicted =  18211.610918731283 Expected =  18170.0\n",
            "Predicted =  18199.959414866677 Expected =  18170.0\n",
            "Predicted =  18199.889053402538 Expected =  18170.0\n",
            "Predicted =  18201.363032751677 Expected =  17380.0\n",
            "Predicted =  17337.527792014727 Expected =  18290.0\n",
            "Predicted =  18268.157773419265 Expected =  19020.0\n",
            "Predicted =  19132.62475953289 Expected =  19960.0\n",
            "Predicted =  20272.238262534865 Expected =  19800.0\n",
            "Predicted =  20128.83824976849 Expected =  19280.0\n",
            "Predicted =  19418.47837578569 Expected =  20240.0\n",
            "Predicted =  20380.59320358534 Expected =  19300.0\n",
            "Predicted =  19352.653906754233 Expected =  18430.0\n",
            "Predicted =  18371.00690350281 Expected =  17830.0\n",
            "Predicted =  17621.20936214307 Expected =  17860.0\n",
            "Predicted =  17631.52238674082 Expected =  18410.0\n",
            "Predicted =  18357.418538091588 Expected =  19330.0\n",
            "Predicted =  19516.633071338252 Expected =  18670.0\n",
            "Predicted =  18799.277895465297 Expected =  18910.0\n",
            "Predicted =  19021.992822239536 Expected =  18380.0\n",
            "Predicted =  18393.349990630915 Expected =  17530.0\n",
            "Predicted =  17416.83846331427 Expected =  17240.0\n",
            "Predicted =  17072.718690817266 Expected =  16450.0\n",
            "Predicted =  16238.99423637891 Expected =  15880.0\n",
            "Predicted =  15655.69391027104 Expected =  15270.0\n",
            "Predicted =  15020.042017622163 Expected =  16180.0\n",
            "Predicted =  16130.34481134006 Expected =  16920.0\n",
            "Predicted =  17088.488126701883 Expected =  17350.0\n",
            "Predicted =  17613.99129714242 Expected =  17330.0\n",
            "Predicted =  17514.67144534603 Expected =  18350.0\n",
            "Predicted =  18573.453146155294 Expected =  18540.0\n",
            "Predicted =  18746.088317818965 Expected =  19250.0\n",
            "Predicted =  19497.61886420753 Expected =  19920.0\n",
            "Predicted =  20209.33696210144 Expected =  20760.0\n",
            "Predicted =  21081.291388837897 Expected =  21700.0\n",
            "Predicted =  22102.337754029886 Expected =  22780.0\n",
            "Predicted =  23250.883357505012 Expected =  22320.0\n",
            "Predicted =  22595.85984619131 Expected =  22150.0\n",
            "Predicted =  22241.356725095062 Expected =  21600.0\n",
            "Predicted =  21516.06531676224 Expected =  22570.0\n",
            "Predicted =  22619.066016730554 Expected =  21900.0\n",
            "Predicted =  21961.809200666277 Expected =  21400.0\n",
            "Predicted =  21327.663141902318 Expected =  20360.0\n",
            "Predicted =  20205.61008257247 Expected =  19570.0\n",
            "Predicted =  19238.963376305717 Expected =  19190.0\n",
            "Predicted =  18934.17308665285 Expected =  18910.0\n",
            "Predicted =  18718.444163543663 Expected =  18500.0\n",
            "Predicted =  18348.34351913668 Expected =  19220.0\n",
            "Predicted =  19260.37072459489 Expected =  17870.0\n",
            "Predicted =  17802.281631778842 Expected =  17330.0\n",
            "Predicted =  17096.394086114375 Expected =  16550.0\n",
            "Predicted =  16320.579733871158 Expected =  16100.0\n",
            "Predicted =  15802.759492147243 Expected =  16920.0\n",
            "Predicted =  16875.87598718488 Expected =  16740.0\n",
            "Predicted =  16800.89156077659 Expected =  17550.0\n",
            "Predicted =  17678.598972084932 Expected =  18370.0\n",
            "Predicted =  18661.12001303274 Expected =  17190.0\n",
            "Predicted =  17292.533404860205 Expected =  16600.0\n",
            "Predicted =  16435.920330136258 Expected =  16550.0\n",
            "Predicted =  16415.04216099025 Expected =  16020.0\n",
            "Predicted =  15908.269310445121 Expected =  16000.0\n",
            "Predicted =  15911.395863212287 Expected =  16790.0\n",
            "Predicted =  16876.23264848624 Expected =  17360.0\n",
            "Predicted =  17587.21045757918 Expected =  18390.0\n",
            "Predicted =  18736.73439899506 Expected =  18550.0\n",
            "Predicted =  18816.489288904177 Expected =  18710.0\n",
            "Predicted =  18874.561828629485 Expected =  18630.0\n",
            "Predicted =  18683.901995845867 Expected =  18350.0\n",
            "Predicted =  18334.015205848766 Expected =  18250.0\n",
            "Predicted =  18212.856100652283 Expected =  18250.0\n",
            "predicting...\n",
            "---------------------------\n",
            "The prediction for the next day: [18212.85610065]\n",
            "last result = -1\n",
            "---------------------------\n",
            "evaluating performance...\n",
            "Testing Accuracy:  57.3 %\n",
            "------------------------\n",
            "plotting the graph...\n"
          ],
          "name": "stdout"
        },
        {
          "output_type": "display_data",
          "data": {
            "image/png": "[encoded data removed]",
            "text/plain": [
              "<Figure size 432x288 with 1 Axes>"
            ]
          },
          "metadata": {
            "tags": [],
            "needs_background": "light"
          }
        },
        {
          "output_type": "stream",
          "text": [
            "done...\n"
          ],
          "name": "stdout"
        },
        {
          "output_type": "display_data",
          "data": {
            "text/plain": [
              "<Figure size 432x288 with 0 Axes>"
            ]
          },
          "metadata": {
            "tags": []
          }
        }
      ]
    }
  ]
}