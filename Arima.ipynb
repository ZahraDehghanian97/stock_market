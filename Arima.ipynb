{
  "nbformat": 4,
  "nbformat_minor": 0,
  "metadata": {
    "colab": {
      "name": "axiom.ipynb",
      "provenance": [],
      "include_colab_link": true
    },
    "kernelspec": {
      "name": "python3",
      "display_name": "Python 3"
    }
  },
  "cells": [
    {
      "cell_type": "markdown",
      "metadata": {
        "id": "view-in-github",
        "colab_type": "text"
      },
      "source": [
        "<a href=\"https://colab.research.google.com/github/zahraDehghanian97/stock_market/blob/master/Arima.ipynb\" target=\"_parent\"><img src=\"https://colab.research.google.com/assets/colab-badge.svg\" alt=\"Open In Colab\"/></a>"
      ]
    },
    {
      "cell_type": "code",
      "metadata": {
        "id": "rczQ_TXLn2dh",
        "colab": {
          "base_uri": "https://localhost:8080/",
          "height": 244
        },
        "outputId": "fba62a4d-f283-425b-8926-173eed0647a2"
      },
      "source": [
        "import warnings\r\n",
        "from matplotlib import pyplot\r\n",
        "from sklearn.metrics import mean_squared_error\r\n",
        "from statsmodels.tsa.arima_model import ARIMA\r\n",
        "import pytse_client as tse\r\n",
        "\r\n",
        "\r\n",
        "TRAINING_PERCENTAGE = 0.7\r\n",
        "TESTING_PERCENTAGE = 1 - TRAINING_PERCENTAGE\r\n",
        "NUMBER_OF_PREVIOUS_DATA_POINTS = 3\r\n",
        "LENGTH_DATA_SET = 0\r\n",
        "TRAINING_SET_LENGTH = 0\r\n",
        "TESTING_SET_LENGTH = 0\r\n",
        "\r\n",
        "\r\n",
        "def training_testing_buckets(raw_data, training_percentage, testing_percentage):\r\n",
        "    global TRAINING_SET_LENGTH, TESTING_SET_LENGTH\r\n",
        "    TRAINING_SET_LENGTH = int(LENGTH_DATA_SET * training_percentage)\r\n",
        "    TESTING_SET_LENGTH = LENGTH_DATA_SET - TRAINING_SET_LENGTH\r\n",
        "    training_set, testing_set = raw_data[0:TRAINING_SET_LENGTH], raw_data[TRAINING_SET_LENGTH:LENGTH_DATA_SET]\r\n",
        "    return training_set, testing_set\r\n",
        "\r\n",
        "\r\n",
        "def evaluate_performance_arima(testing_actual, testing_predict):\r\n",
        "    counter = 0\r\n",
        "    for i in range(len(testing_actual)-1):\r\n",
        "        predict=testing_predict[i+1]- testing_predict[i]\r\n",
        "        actual = testing_actual[i+1]-testing_actual[i]\r\n",
        "        if (actual > 0 and predict > 0) or (actual < 0 and predict < 0):\r\n",
        "            counter+=1\r\n",
        "    counter = round((counter / (len(testing_actual)-1))*100,2)\r\n",
        "    return counter\r\n",
        "    # return mean_squared_error(testing_actual, testing_predict)\r\n",
        "\r\n",
        "\r\n",
        "def plot_arima(currency, testing_actual, testing_predict, file_name):\r\n",
        "    actual = pyplot.plot(testing_actual, label=\"Actual data points\", color=\"blue\")\r\n",
        "    testing = pyplot.plot(testing_predict, label=\"Testing prediction\", color=\"green\")\r\n",
        "    pyplot.ylabel('currency values for 1 USD')\r\n",
        "    pyplot.xlabel('number of days')\r\n",
        "    pyplot.title( currency + ' : actual vs predicted ')\r\n",
        "    pyplot.legend()\r\n",
        "    pyplot.show()\r\n",
        "    pyplot.savefig(file_name)\r\n",
        "    pyplot.clf()\r\n",
        "\r\n",
        "\r\n",
        "def load_data_set(currency):\r\n",
        "    tse.download(symbols=stock_name)\r\n",
        "    ticker = tse.Ticker(stock_name)\r\n",
        "    data = ticker.history\r\n",
        "    raw_data = data.close.values.tolist()\r\n",
        "    global LENGTH_DATA_SET\r\n",
        "    LENGTH_DATA_SET = len(raw_data)\r\n",
        "    return raw_data\r\n",
        "\r\n",
        "\r\n",
        "def build_model_predict_arima(training_set, testing_set):\r\n",
        "    testing_predict = list()\r\n",
        "    training_predict = list(training_set)\r\n",
        "    for testing_set_index in range(TESTING_SET_LENGTH):\r\n",
        "        arima = ARIMA(training_predict, order=(5, 1, 0))\r\n",
        "        arima_model = arima.fit(disp=0)\r\n",
        "        forecasting = arima_model.forecast()[0].tolist()[0]\r\n",
        "        testing_predict.append(forecasting)\r\n",
        "        training_predict.append(testing_set[testing_set_index])\r\n",
        "        # print(\"Predicted = \", testing_predict[-1], \"Expected = \", testing_set[testing_set_index])\r\n",
        "    print('predicting...')\r\n",
        "    print(\"---------------------------\")\r\n",
        "    forcast = arima_model.forecast()[0]\r\n",
        "    print('The prediction for the next day:', forcast)\r\n",
        "    if forcast- testing_set[-1] > 0 : print(\"last result = +1\")\r\n",
        "    else :  print(\"last result = -1\")\r\n",
        "    print(\"---------------------------\")\r\n",
        "    return testing_predict\r\n",
        "\r\n",
        "\r\n",
        "def arima_model(currency):\r\n",
        "    print('\\nARIMA Model')\r\n",
        "\r\n",
        "    print('loading the dataset...')\r\n",
        "    raw_data = load_data_set(currency)\r\n",
        "\r\n",
        "    print('splitting training and testing set...')\r\n",
        "    training_actual_arima, testing_actual_arima = training_testing_buckets(raw_data, TRAINING_PERCENTAGE,\r\n",
        "                                                                           TESTING_PERCENTAGE)\r\n",
        "\r\n",
        "    print('building and training model...')\r\n",
        "    testing_predict_arima = build_model_predict_arima(training_actual_arima, testing_actual_arima)\r\n",
        "\r\n",
        "    print('evaluating performance...')\r\n",
        "    mse_arima = evaluate_performance_arima(testing_actual_arima, testing_predict_arima)\r\n",
        "    print('Testing Accuracy: ', mse_arima,\"%\")\r\n",
        "\r\n",
        "    with open(\"mse_arima.txt\", 'w') as mse_file:\r\n",
        "        mse_file.write(str(mse_arima) + '\\n')\r\n",
        "    print(\"------------------------\")\r\n",
        "    print('plotting the graph...')\r\n",
        "    plot_arima(currency, testing_actual_arima, testing_predict_arima, \"testing_prediction_arima.pdf\")\r\n",
        "\r\n",
        "    print('done...')\r\n",
        "    return raw_data, testing_predict_arima\r\n",
        "\r\n",
        "\r\n",
        "if __name__ == '__main__':\r\n",
        "    warnings.filterwarnings(\"ignore\")\r\n",
        "    stock_name = input('Enter stock name:')\r\n",
        "    # stock_name = 'Ø®Ú†Ø±Ø®Ø´'\r\n",
        "    arima_model(stock_name)  # setting the entry point\r\n"
      ],
      "execution_count": null,
      "outputs": [
        {
          "output_type": "error",
          "ename": "SystemError",
          "evalue": "ignored",
          "traceback": [
            "\u001b[0;31m---------------------------------------------------------------------------\u001b[0m",
            "\u001b[0;31mSystemError\u001b[0m                               Traceback (most recent call last)",
            "\u001b[0;32m<ipython-input-4-dce0bd784a57>\u001b[0m in \u001b[0;36m<module>\u001b[0;34m()\u001b[0m\n\u001b[1;32m      7\u001b[0m \u001b[0mdevice_name\u001b[0m \u001b[0;34m=\u001b[0m \u001b[0mtf\u001b[0m\u001b[0;34m.\u001b[0m\u001b[0mtest\u001b[0m\u001b[0;34m.\u001b[0m\u001b[0mgpu_device_name\u001b[0m\u001b[0;34m(\u001b[0m\u001b[0;34m)\u001b[0m\u001b[0;34m\u001b[0m\u001b[0;34m\u001b[0m\u001b[0m\n\u001b[1;32m      8\u001b[0m \u001b[0;32mif\u001b[0m \u001b[0mdevice_name\u001b[0m \u001b[0;34m!=\u001b[0m \u001b[0;34m'/device:GPU:0'\u001b[0m\u001b[0;34m:\u001b[0m\u001b[0;34m\u001b[0m\u001b[0;34m\u001b[0m\u001b[0m\n\u001b[0;32m----> 9\u001b[0;31m   \u001b[0;32mraise\u001b[0m \u001b[0mSystemError\u001b[0m\u001b[0;34m(\u001b[0m\u001b[0;34m'GPU device not found'\u001b[0m\u001b[0;34m)\u001b[0m\u001b[0;34m\u001b[0m\u001b[0;34m\u001b[0m\u001b[0m\n\u001b[0m\u001b[1;32m     10\u001b[0m \u001b[0mprint\u001b[0m\u001b[0;34m(\u001b[0m\u001b[0;34m'Found GPU at: {}'\u001b[0m\u001b[0;34m.\u001b[0m\u001b[0mformat\u001b[0m\u001b[0;34m(\u001b[0m\u001b[0mdevice_name\u001b[0m\u001b[0;34m)\u001b[0m\u001b[0;34m)\u001b[0m\u001b[0;34m\u001b[0m\u001b[0;34m\u001b[0m\u001b[0m\n\u001b[1;32m     11\u001b[0m \u001b[0;34m\u001b[0m\u001b[0m\n",
            "\u001b[0;31mSystemError\u001b[0m: GPU device not found"
          ]
        }
      ]
    },
    {
      "cell_type": "code",
      "metadata": {
        "id": "XIrUq4BP6U5O",
        "colab": {
          "base_uri": "https://localhost:8080/"
        },
        "outputId": "2e3db817-6c1b-4ca5-d7b7-4116ac03e5a1"
      },
      "source": [
        "pip install pytse_client"
      ],
      "execution_count": null,
      "outputs": [
        {
          "output_type": "stream",
          "text": [
            "Collecting pytse_client\n",
            "  Downloading https://files.pythonhosted.org/packages/88/65/42b41a3f759af7a274dce444d486c0a09a98e867d29b24ade8a7c521c43c/pytse_client-0.7.0-py3-none-any.whl\n",
            "Requirement already satisfied: pandas in /usr/local/lib/python3.6/dist-packages (from pytse_client) (1.1.5)\n",
            "Collecting beautifulsoup4<5.0.0,>=4.9.3\n",
            "\u001b[?25l  Downloading https://files.pythonhosted.org/packages/d1/41/e6495bd7d3781cee623ce23ea6ac73282a373088fcd0ddc809a047b18eae/beautifulsoup4-4.9.3-py3-none-any.whl (115kB)\n",
            "\u001b[K     |████████████████████████████████| 122kB 10.1MB/s \n",
            "\u001b[?25hCollecting jdatetime<4.0.0,>=3.6.2\n",
            "  Downloading https://files.pythonhosted.org/packages/fa/a9/2c9f8ff1c126835e497e23f2a5a69fcd59ea2ca11030db310bdbd8c6fe76/jdatetime-3.6.2.tar.gz\n",
            "Requirement already satisfied: requests<3.0.0,>=2.23.0 in /usr/local/lib/python3.6/dist-packages (from pytse_client) (2.23.0)\n",
            "Requirement already satisfied: numpy>=1.15.4 in /usr/local/lib/python3.6/dist-packages (from pandas->pytse_client) (1.19.5)\n",
            "Requirement already satisfied: python-dateutil>=2.7.3 in /usr/local/lib/python3.6/dist-packages (from pandas->pytse_client) (2.8.1)\n",
            "Requirement already satisfied: pytz>=2017.2 in /usr/local/lib/python3.6/dist-packages (from pandas->pytse_client) (2018.9)\n",
            "Collecting soupsieve>1.2; python_version >= \"3.0\"\n",
            "  Downloading https://files.pythonhosted.org/packages/41/e7/3617a4b988ed7744743fb0dbba5aa0a6e3f95a9557b43f8c4740d296b48a/soupsieve-2.2-py3-none-any.whl\n",
            "Requirement already satisfied: chardet<4,>=3.0.2 in /usr/local/lib/python3.6/dist-packages (from requests<3.0.0,>=2.23.0->pytse_client) (3.0.4)\n",
            "Requirement already satisfied: certifi>=2017.4.17 in /usr/local/lib/python3.6/dist-packages (from requests<3.0.0,>=2.23.0->pytse_client) (2020.12.5)\n",
            "Requirement already satisfied: urllib3!=1.25.0,!=1.25.1,<1.26,>=1.21.1 in /usr/local/lib/python3.6/dist-packages (from requests<3.0.0,>=2.23.0->pytse_client) (1.24.3)\n",
            "Requirement already satisfied: idna<3,>=2.5 in /usr/local/lib/python3.6/dist-packages (from requests<3.0.0,>=2.23.0->pytse_client) (2.10)\n",
            "Requirement already satisfied: six>=1.5 in /usr/local/lib/python3.6/dist-packages (from python-dateutil>=2.7.3->pandas->pytse_client) (1.15.0)\n",
            "Building wheels for collected packages: jdatetime\n",
            "  Building wheel for jdatetime (setup.py) ... \u001b[?25l\u001b[?25hdone\n",
            "  Created wheel for jdatetime: filename=jdatetime-3.6.2-cp36-none-any.whl size=11783 sha256=b8524c351cac12afeb10ead4e877c526446b081652cb7da984653b51c63432bd\n",
            "  Stored in directory: /root/.cache/pip/wheels/ea/7d/d2/92961c39b79a0556bc4ce7c20185fdab84969ecb8fe2e5e8cc\n",
            "Successfully built jdatetime\n",
            "Installing collected packages: soupsieve, beautifulsoup4, jdatetime, pytse-client\n",
            "  Found existing installation: beautifulsoup4 4.6.3\n",
            "    Uninstalling beautifulsoup4-4.6.3:\n",
            "      Successfully uninstalled beautifulsoup4-4.6.3\n",
            "Successfully installed beautifulsoup4-4.9.3 jdatetime-3.6.2 pytse-client-0.7.0 soupsieve-2.2\n"
          ],
          "name": "stdout"
        }
      ]
    }
  ]
}