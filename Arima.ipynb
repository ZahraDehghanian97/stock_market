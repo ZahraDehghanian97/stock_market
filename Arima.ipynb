{
  "nbformat": 4,
  "nbformat_minor": 0,
  "metadata": {
    "colab": {
      "name": "axiom.ipynb",
      "provenance": [],
      "include_colab_link": true
    },
    "kernelspec": {
      "name": "python3",
      "display_name": "Python 3"
    }
  },
  "cells": [
    {
      "cell_type": "markdown",
      "metadata": {
        "id": "view-in-github",
        "colab_type": "text"
      },
      "source": [
        "<a href=\"https://colab.research.google.com/github/zahraDehghanian97/stock_market/blob/master/Arima.ipynb\" target=\"_parent\"><img src=\"https://colab.research.google.com/assets/colab-badge.svg\" alt=\"Open In Colab\"/></a>"
      ]
    },
    {
      "cell_type": "markdown",
      "metadata": {
        "id": "filEzFGgmUHF"
      },
      "source": [
        "import libraries"
      ]
    },
    {
      "cell_type": "code",
      "metadata": {
        "id": "BbtPI1jvjlWh"
      },
      "source": [
        "import warnings\r\n",
        "from matplotlib import pyplot\r\n",
        "from sklearn.metrics import mean_squared_error\r\n",
        "from statsmodels.tsa.arima_model import ARIMA\r\n",
        "import pandas as pd\r\n",
        "import glob"
      ],
      "execution_count": 13,
      "outputs": []
    },
    {
      "cell_type": "markdown",
      "metadata": {
        "id": "nef48Kq2mYA1"
      },
      "source": [
        "load data"
      ]
    },
    {
      "cell_type": "code",
      "metadata": {
        "colab": {
          "base_uri": "https://localhost:8080/"
        },
        "id": "Jur80Q47czZP",
        "outputId": "628f4c80-b7c0-4d00-afe5-dde077afdc81"
      },
      "source": [
        "! curl -L https://api.github.com/repos/zahraDehghanian97/stock_market/tarball --output repo.tar\r\n",
        "! tar xf repo.tar --wildcards \"*/tickers_data/*.csv\" --strip-components=1 \r\n",
        "! rm -rf repo.tar"
      ],
      "execution_count": 11,
      "outputs": [
        {
          "output_type": "stream",
          "text": [
            "  % Total    % Received % Xferd  Average Speed   Time    Time     Time  Current\n",
            "                                 Dload  Upload   Total   Spent    Left  Speed\n",
            "  0     0    0     0    0     0      0      0 --:--:-- --:--:-- --:--:--     0\n",
            "100  166k    0  166k    0     0   500k      0 --:--:-- --:--:-- --:--:--  500k\n"
          ],
          "name": "stdout"
        }
      ]
    },
    {
      "cell_type": "markdown",
      "metadata": {
        "id": "ykj5FSICmZyU"
      },
      "source": [
        "put dataset in pandas dataframe"
      ]
    },
    {
      "cell_type": "markdown",
      "metadata": {
        "id": "fiLFK2NamepO"
      },
      "source": [
        "run arima model"
      ]
    },
    {
      "cell_type": "code",
      "metadata": {
        "colab": {
          "base_uri": "https://localhost:8080/"
        },
        "id": "WIk54PNCOxbK",
        "outputId": "788be474-19b3-4d30-a9e7-b1f941a9e506"
      },
      "source": [
        "\r\n",
        "\r\n",
        "def load_df_from_csv(dir_name:str) -> dict:\r\n",
        "  stocks = {}\r\n",
        "  for file_name in sorted(glob.glob(dir_name+'/*.csv')):\r\n",
        "    df = pd.read_csv(file_name,names=['close'])\r\n",
        "    dataset_name = file_name.split(\"/\")[1].split(\".csv\")[0]\r\n",
        "    print(dataset_name)\r\n",
        "    stocks[dataset_name] = df\r\n",
        "  return stocks\r\n",
        "\r\n",
        "stocks = load_df_from_csv(dir_name=\"tickers_data\")\r\n",
        "\r\n"
      ],
      "execution_count": 14,
      "outputs": [
        {
          "output_type": "stream",
          "text": [
            "خچرخش\n",
            "شپنا\n"
          ],
          "name": "stdout"
        }
      ]
    },
    {
      "cell_type": "code",
      "metadata": {
        "colab": {
          "base_uri": "https://localhost:8080/",
          "height": 562
        },
        "id": "qj_g17tGjvSu",
        "outputId": "1ef8566b-a15d-4528-952e-6adca2b8065c"
      },
      "source": [
        "TRAINING_PERCENTAGE = 0.7\r\n",
        "TESTING_PERCENTAGE = 1 - TRAINING_PERCENTAGE\r\n",
        "NUMBER_OF_PREVIOUS_DATA_POINTS = 3\r\n",
        "LENGTH_DATA_SET = 0\r\n",
        "TRAINING_SET_LENGTH = 0\r\n",
        "TESTING_SET_LENGTH = 0\r\n",
        "\r\n",
        "\r\n",
        "\r\n",
        "def get_data(name_Stock,number_of_days):\r\n",
        "  df = stocks[name_Stock]\r\n",
        "  close_data = df.close.values.tolist()\r\n",
        "  len_data = len(close_data)-1\r\n",
        "  close_data = close_data[len_data-number_of_days:len_data]\r\n",
        "  new_data = []\r\n",
        "  for i in range(len(close_data)):\r\n",
        "    new_data.append(float(close_data[i]))\r\n",
        "  return new_data\r\n",
        "\r\n",
        "def training_testing_buckets(raw_data, training_percentage, testing_percentage):\r\n",
        "    global TRAINING_SET_LENGTH, TESTING_SET_LENGTH\r\n",
        "    TRAINING_SET_LENGTH = int(LENGTH_DATA_SET * training_percentage)\r\n",
        "    TESTING_SET_LENGTH = LENGTH_DATA_SET - TRAINING_SET_LENGTH\r\n",
        "    training_set, testing_set = raw_data[0:TRAINING_SET_LENGTH], raw_data[TRAINING_SET_LENGTH:LENGTH_DATA_SET]\r\n",
        "    return training_set, testing_set\r\n",
        "\r\n",
        "\r\n",
        "def evaluate_performance(testing_actual, testing_predict):\r\n",
        "    counter = 0\r\n",
        "    for i in range(len(testing_actual)-1):\r\n",
        "        predict=testing_predict[i+1]- testing_predict[i]\r\n",
        "        actual = testing_actual[i+1]-testing_actual[i]\r\n",
        "        if (actual > 0 and predict > 0) or (actual < 0 and predict < 0):\r\n",
        "            counter+=1\r\n",
        "    counter = round((counter / (len(testing_actual)-1))*100,2)\r\n",
        "    return counter\r\n",
        "\r\n",
        "\r\n",
        "def plot_model(currency, testing_actual, testing_predict):\r\n",
        "    actual = pyplot.plot(testing_actual, label=\"Actual data points\", color=\"blue\")\r\n",
        "    testing = pyplot.plot(testing_predict, label=\"Testing prediction\", color=\"green\")\r\n",
        "    pyplot.ylabel('currency values')\r\n",
        "    pyplot.xlabel('number of days')\r\n",
        "    pyplot.title( currency + ' : actual vs predicted ')\r\n",
        "    pyplot.legend()\r\n",
        "    pyplot.show()\r\n",
        "\r\n",
        "\r\n",
        "def load_data_set(currency):\r\n",
        "    tse.download(symbols=stock_name)\r\n",
        "    ticker = tse.Ticker(stock_name)\r\n",
        "    data = ticker.history\r\n",
        "    raw_data = data.close.values.tolist()\r\n",
        "    global LENGTH_DATA_SET\r\n",
        "    LENGTH_DATA_SET = len(raw_data)\r\n",
        "    return raw_data\r\n",
        "\r\n",
        "\r\n",
        "def build_model_predict_arima(training_set, testing_set):\r\n",
        "    testing_predict = list()\r\n",
        "    training_predict = list(training_set)\r\n",
        "    for testing_set_index in range(TESTING_SET_LENGTH):\r\n",
        "        arima = ARIMA(training_predict, order=(5, 1, 0))\r\n",
        "        arima_model = arima.fit(disp=0)\r\n",
        "        forecasting = arima_model.forecast()[0].tolist()[0]\r\n",
        "        testing_predict.append(forecasting)\r\n",
        "        training_predict.append(testing_set[testing_set_index])\r\n",
        "        # print(\"Predicted = \", testing_predict[-1], \"Expected = \", testing_set[testing_set_index])\r\n",
        "    print('predicting...')\r\n",
        "    print(\"---------------------------\")\r\n",
        "    forcast = arima_model.forecast()[0]\r\n",
        "    print('The prediction for the next day:', forcast)\r\n",
        "    if forcast- testing_set[-1] > 0 : print(\"last result = +1\")\r\n",
        "    else :  print(\"last result = -1\")\r\n",
        "    print(\"---------------------------\")\r\n",
        "    return testing_predict\r\n",
        "\r\n",
        "\r\n",
        "def run_model(currency,type):\r\n",
        "    global LENGTH_DATA_SET\r\n",
        "    print('loading the dataset...')\r\n",
        "    # raw_data = load_data_set(currency)\r\n",
        "    raw_data = get_data(currency,300)\r\n",
        "    LENGTH_DATA_SET = len(raw_data)\r\n",
        "\r\n",
        "    print('splitting training and testing set...')\r\n",
        "    training_actual, testing_actual = training_testing_buckets(raw_data, TRAINING_PERCENTAGE, TESTING_PERCENTAGE)\r\n",
        "\r\n",
        "    print('building and training model...')\r\n",
        "    if type == 1 :\r\n",
        "      print(\"run ARIMA model\")\r\n",
        "      testing_predict = build_model_predict_arima(training_actual, testing_actual)\r\n",
        "\r\n",
        "    print('evaluating performance...')\r\n",
        "    accuracy_model = evaluate_performance(testing_actual, testing_predict)\r\n",
        "    print('Testing Accuracy: ', accuracy_model,\"%\")\r\n",
        "\r\n",
        "    print(\"------------------------\")\r\n",
        "    print('plotting the graph...')\r\n",
        "    plot_model(currency, testing_actual, testing_predict)\r\n",
        "\r\n",
        "    print('done...')\r\n",
        "    return raw_data, testing_predict\r\n",
        "\r\n",
        "\r\n",
        "if __name__ == '__main__':\r\n",
        "    warnings.filterwarnings(\"ignore\")\r\n",
        "    # stock_name = input('Enter stock name:')\r\n",
        "    stock_name = 'شپنا'\r\n",
        "    type = 1 #if type = 1 arima    type=2 lstm      type=3 RNN\r\n",
        "    run_model(stock_name,type)  # setting the entry point\r\n"
      ],
      "execution_count": 18,
      "outputs": [
        {
          "output_type": "stream",
          "text": [
            "\n",
            "ARIMA Model\n",
            "loading the dataset...\n",
            "splitting training and testing set...\n",
            "building and training model...\n",
            "run arima model\n",
            "predicting...\n",
            "---------------------------\n",
            "The prediction for the next day: [12428.88723791]\n",
            "last result = -1\n",
            "---------------------------\n",
            "evaluating performance...\n",
            "Testing Accuracy:  60.67 %\n",
            "------------------------\n",
            "plotting the graph...\n"
          ],
          "name": "stdout"
        },
        {
          "output_type": "display_data",
          "data": {
            "image/png": "[encoded data removed]",
            "text/plain": [
              "<Figure size 432x288 with 1 Axes>"
            ]
          },
          "metadata": {
            "tags": [],
            "needs_background": "light"
          }
        },
        {
          "output_type": "stream",
          "text": [
            "done...\n"
          ],
          "name": "stdout"
        }
      ]
    }
  ]
}