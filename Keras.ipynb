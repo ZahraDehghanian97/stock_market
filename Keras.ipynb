{
  "nbformat": 4,
  "nbformat_minor": 0,
  "metadata": {
    "colab": {
      "name": "CNN.ipynb",
      "provenance": [],
      "include_colab_link": true
    },
    "kernelspec": {
      "name": "python3",
      "display_name": "Python 3"
    }
  },
  "cells": [
    {
      "cell_type": "markdown",
      "metadata": {
        "id": "view-in-github",
        "colab_type": "text"
      },
      "source": [
        "<a href=\"https://colab.research.google.com/github/zahraDehghanian97/stock_market/blob/master/Keras.ipynb\" target=\"_parent\"><img src=\"https://colab.research.google.com/assets/colab-badge.svg\" alt=\"Open In Colab\"/></a>"
      ]
    },
    {
      "cell_type": "markdown",
      "metadata": {
        "id": "bWcT_YhVwaUj"
      },
      "source": [
        "Deep Learing model in Keras\r\n",
        "Implementation Steps:\r\n",
        " 1- Data preparation (Train/Validation/Test)\r\n",
        " 2- Crrating layers and model\r\n",
        " 3- Setting training parameters (Loss & optimization function ,...)\r\n",
        " 4- Train the model (using fit())\r\n"
      ]
    },
    {
      "cell_type": "code",
      "metadata": {
        "id": "PBokhGnR1qSs"
      },
      "source": [
        "from keras.datasets import mnist\r\n",
        "(train_images, train_labels),(test_images, test_labels)=mnist.load_data()"
      ],
      "execution_count": 3,
      "outputs": []
    },
    {
      "cell_type": "code",
      "metadata": {
        "id": "NS-QLfdGyqAC",
        "outputId": "1a6b9016-52a3-4de4-c348-634c8b63b3ae",
        "colab": {
          "base_uri": "https://localhost:8080/",
          "height": 283
        }
      },
      "source": [
        "import matplotlib.pyplot as plt\r\n",
        "digit=train_images[4]\r\n",
        "plt.imshow(digit,cmap='binary')"
      ],
      "execution_count": 14,
      "outputs": [
        {
          "output_type": "execute_result",
          "data": {
            "text/plain": [
              "<matplotlib.image.AxesImage at 0x7f3ea72798d0>"
            ]
          },
          "metadata": {
            "tags": []
          },
          "execution_count": 14
        },
        {
          "output_type": "display_data",
          "data": {
            "image/png": "[encoded data removed]",
            "text/plain": [
              "<Figure size 432x288 with 1 Axes>"
            ]
          },
          "metadata": {
            "tags": [],
            "needs_background": "light"
          }
        }
      ]
    },
    {
      "cell_type": "code",
      "metadata": {
        "id": "Pl-NlBoV2Rvs",
        "outputId": "a10ee1e2-7644-46f8-8890-9039c26ebf06",
        "colab": {
          "base_uri": "https://localhost:8080/"
        }
      },
      "source": [
        "my_data=train_images[10:100]\r\n",
        "print(my_data.ndim)\r\n",
        "print(my_data.shape)\r\n",
        "print(my_data.dtype)\r\n"
      ],
      "execution_count": 17,
      "outputs": [
        {
          "output_type": "stream",
          "text": [
            "3\n",
            "(90, 28, 28)\n",
            "uint8\n"
          ],
          "name": "stdout"
        }
      ]
    },
    {
      "cell_type": "code",
      "metadata": {
        "colab": {
          "base_uri": "https://localhost:8080/"
        },
        "id": "Ggz3BHzU4wv4",
        "outputId": "3b1e423e-8fff-4724-f542-554b1b61e830"
      },
      "source": [
        "import glob\r\n"
      ],
      "execution_count": 28,
      "outputs": [
        {
          "output_type": "stream",
          "text": [
            "  % Total    % Received % Xferd  Average Speed   Time    Time     Time  Current\n",
            "                                 Dload  Upload   Total   Spent    Left  Speed\n",
            "100   130  100   130    0     0    373      0 --:--:-- --:--:-- --:--:--   372\n",
            "tar: This does not look like a tar archive\n",
            "tar: */T_Image/*.png: Not found in archive\n",
            "tar: Exiting with failure status due to previous errors\n"
          ],
          "name": "stdout"
        }
      ]
    },
    {
      "cell_type": "code",
      "metadata": {
        "colab": {
          "base_uri": "https://localhost:8080/"
        },
        "id": "zchPiV32AFWm",
        "outputId": "07727587-751c-4bda-e67f-82a0f429c26c"
      },
      "source": [
        "! curl -L https://api.github.com/repos/zahraDehghanian97/stock_market/tarball --output repo.tar\r\n",
        "! tar xf repo.tar --wildcards \"*/T_Image/*.png\" --strip-components=1 \r\n",
        "! rm -rf repo.tar\r\n"
      ],
      "execution_count": 43,
      "outputs": [
        {
          "output_type": "stream",
          "text": [
            "  % Total    % Received % Xferd  Average Speed   Time    Time     Time  Current\n",
            "                                 Dload  Upload   Total   Spent    Left  Speed\n",
            "  0     0    0     0    0     0      0      0 --:--:-- --:--:-- --:--:--     0\n",
            "100 18.5M    0 18.5M    0     0  5451k      0 --:--:--  0:00:03 --:--:-- 7999k\n"
          ],
          "name": "stdout"
        }
      ]
    },
    {
      "cell_type": "code",
      "metadata": {
        "id": "1YYpakz0CH1K",
        "outputId": "6e64cd34-97f4-48b0-d465-cc960866b64b",
        "colab": {
          "base_uri": "https://localhost:8080/"
        }
      },
      "source": [
        "images=glob.glob(\"T_Image\"+\"/*.png\")\r\n",
        "len(images)"
      ],
      "execution_count": 44,
      "outputs": [
        {
          "output_type": "execute_result",
          "data": {
            "text/plain": [
              "14"
            ]
          },
          "metadata": {
            "tags": []
          },
          "execution_count": 44
        }
      ]
    },
    {
      "cell_type": "code",
      "metadata": {
        "id": "nWjTjF2yBdjM"
      },
      "source": [
        "\r\n",
        "import pandas as pd"
      ],
      "execution_count": 32,
      "outputs": []
    },
    {
      "cell_type": "code",
      "metadata": {
        "id": "wpAGjZhZA45b",
        "outputId": "6828a37a-5736-4d73-ef48-7e99842edec1",
        "colab": {
          "base_uri": "https://localhost:8080/"
        }
      },
      "source": [
        "\r\n",
        "def load_df_from(dir_name:str) -> dict:\r\n",
        "  images = {}\r\n",
        "  for file_name in sorted(glob.glob(dir_name + '/*.png')):\r\n",
        "  #  df = pd.read_csv(file_name,names=['close'])\r\n",
        "    dataset_name = file_name.split(\"/\")[1].split(\".png\")[0]\r\n",
        "    print(dataset_name)\r\n",
        "    images[dataset_name] = df\r\n",
        "  return images\r\n",
        "\r\n",
        "images = load_df_from(dir_name=\"T_Image\")\r\n",
        "len(images)"
      ],
      "execution_count": 41,
      "outputs": [
        {
          "output_type": "execute_result",
          "data": {
            "text/plain": [
              "0"
            ]
          },
          "metadata": {
            "tags": []
          },
          "execution_count": 41
        }
      ]
    },
    {
      "cell_type": "code",
      "metadata": {
        "id": "JqI-imyA5tvY",
        "outputId": "411f1f5a-61cf-4245-bc20-10f475b92a28",
        "colab": {
          "base_uri": "https://localhost:8080/"
        }
      },
      "source": [
        "pip install opencv-python"
      ],
      "execution_count": 23,
      "outputs": [
        {
          "output_type": "stream",
          "text": [
            "Requirement already satisfied: opencv-python in /usr/local/lib/python3.7/dist-packages (4.1.2.30)\n",
            "Requirement already satisfied: numpy>=1.14.5 in /usr/local/lib/python3.7/dist-packages (from opencv-python) (1.19.5)\n"
          ],
          "name": "stdout"
        }
      ]
    },
    {
      "cell_type": "code",
      "metadata": {
        "id": "u-wWssic6686",
        "outputId": "a53c2f66-9ce8-4d3e-98ab-178308d19f3c",
        "colab": {
          "base_uri": "https://localhost:8080/"
        }
      },
      "source": [
        "len(images)"
      ],
      "execution_count": 29,
      "outputs": [
        {
          "output_type": "execute_result",
          "data": {
            "text/plain": [
              "0"
            ]
          },
          "metadata": {
            "tags": []
          },
          "execution_count": 29
        }
      ]
    }
  ]
}