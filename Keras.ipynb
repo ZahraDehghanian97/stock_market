{
  "nbformat": 4,
  "nbformat_minor": 0,
  "metadata": {
    "colab": {
      "name": "CNN.ipynb",
      "provenance": [],
      "include_colab_link": true
    },
    "kernelspec": {
      "name": "python3",
      "display_name": "Python 3"
    }
  },
  "cells": [
    {
      "cell_type": "markdown",
      "metadata": {
        "id": "view-in-github",
        "colab_type": "text"
      },
      "source": [
        "<a href=\"https://colab.research.google.com/github/zahraDehghanian97/stock_market/blob/master/Keras.ipynb\" target=\"_parent\"><img src=\"https://colab.research.google.com/assets/colab-badge.svg\" alt=\"Open In Colab\"/></a>"
      ]
    },
    {
      "cell_type": "markdown",
      "metadata": {
        "id": "bWcT_YhVwaUj"
      },
      "source": [
        "Deep Learing model in Keras\r\n",
        "Implementation Steps:\r\n",
        " 1- Data preparation (Train/Validation/Test)\r\n",
        " 2- Crrating layers and model\r\n",
        " 3- Setting training parameters (Loss & optimization function ,...)\r\n",
        " 4- Train the model (using fit())\r\n"
      ]
    },
    {
      "cell_type": "code",
      "metadata": {
        "id": "PBokhGnR1qSs"
      },
      "source": [
        "from keras.datasets import mnist\r\n",
        "(train_images, train_labels),(test_images, test_labels)=mnist.load_data()"
      ],
      "execution_count": 14,
      "outputs": []
    },
    {
      "cell_type": "code",
      "metadata": {
        "id": "iZ1OCD0pKo7O"
      },
      "source": [
        "X_train=train_images.reshape(60000,784)\r\n",
        "X_test=test_images.reshape(10000,784)\r\n",
        "X_train=X_train.astype('float32')\r\n",
        "X_test=X_test.astype('float32')\r\n",
        "X_train/=255\r\n",
        "X_test/=255"
      ],
      "execution_count": 15,
      "outputs": []
    },
    {
      "cell_type": "code",
      "metadata": {
        "id": "NS-QLfdGyqAC",
        "colab": {
          "base_uri": "https://localhost:8080/",
          "height": 283
        },
        "outputId": "1a6b9016-52a3-4de4-c348-634c8b63b3ae"
      },
      "source": [
        "import matplotlib.pyplot as plt\r\n",
        "digit=train_images[4]\r\n",
        "plt.imshow(digit,cmap='binary')"
      ],
      "execution_count": null,
      "outputs": [
        {
          "output_type": "execute_result",
          "data": {
            "text/plain": [
              "<matplotlib.image.AxesImage at 0x7f3ea72798d0>"
            ]
          },
          "metadata": {
            "tags": []
          },
          "execution_count": 14
        },
        {
          "output_type": "display_data",
          "data": {
            "image/png": "[encoded data removed]",
            "text/plain": [
              "<Figure size 432x288 with 1 Axes>"
            ]
          },
          "metadata": {
            "tags": [],
            "needs_background": "light"
          }
        }
      ]
    },
    {
      "cell_type": "code",
      "metadata": {
        "id": "Pl-NlBoV2Rvs",
        "colab": {
          "base_uri": "https://localhost:8080/"
        },
        "outputId": "a10ee1e2-7644-46f8-8890-9039c26ebf06"
      },
      "source": [
        "my_data=train_images[10:100]\r\n",
        "print(my_data.ndim)\r\n",
        "print(my_data.shape)\r\n",
        "print(my_data.dtype)\r\n"
      ],
      "execution_count": null,
      "outputs": [
        {
          "output_type": "stream",
          "text": [
            "3\n",
            "(90, 28, 28)\n",
            "uint8\n"
          ],
          "name": "stdout"
        }
      ]
    },
    {
      "cell_type": "code",
      "metadata": {
        "id": "Ggz3BHzU4wv4"
      },
      "source": [
        "import glob\r\n",
        "import cv2\r\n",
        "import numpy as np\r\n"
      ],
      "execution_count": null,
      "outputs": []
    },
    {
      "cell_type": "code",
      "metadata": {
        "colab": {
          "base_uri": "https://localhost:8080/"
        },
        "id": "zchPiV32AFWm",
        "outputId": "5630fc99-510b-49e1-ea11-f1ec938d8cef"
      },
      "source": [
        "! curl -L https://api.github.com/repos/zahraDehghanian97/stock_market/tarball --output repo.tar\r\n",
        "! tar xf repo.tar --wildcards \"*/I_Train/*.png\" --strip-components=1 \r\n",
        "! tar xf repo.tar --wildcards \"*/I_Trainnot/*.png\" --strip-components=1 \r\n",
        "! rm -rf repo.tar\r\n"
      ],
      "execution_count": null,
      "outputs": [
        {
          "output_type": "stream",
          "text": [
            "  % Total    % Received % Xferd  Average Speed   Time    Time     Time  Current\n",
            "                                 Dload  Upload   Total   Spent    Left  Speed\n",
            "  0     0    0     0    0     0      0      0 --:--:-- --:--:-- --:--:--     0\n",
            "100 15.5M    0 15.5M    0     0  7476k      0 --:--:--  0:00:02 --:--:-- 5960k\n"
          ],
          "name": "stdout"
        }
      ]
    },
    {
      "cell_type": "code",
      "metadata": {
        "id": "1YYpakz0CH1K"
      },
      "source": [
        "images=glob.glob(\"T_Image\"+\"/*.png\")\r\n",
        "labels=glob.glob(\"I_Trainnot\"+\"/*.png\")\r\n"
      ],
      "execution_count": null,
      "outputs": []
    },
    {
      "cell_type": "code",
      "metadata": {
        "id": "nWjTjF2yBdjM"
      },
      "source": [
        "X=[]\r\n",
        "width=200\r\n",
        "heigh=100\r\n",
        "for img in images:\r\n",
        "  image=cv2.imread(img)\r\n",
        "  image=cv2.resize(image,(width,heigh))\r\n",
        "  image= image/np.max(image)\r\n",
        "  image=image.astype(np.float32)\r\n",
        "  X.append(image)"
      ],
      "execution_count": null,
      "outputs": []
    },
    {
      "cell_type": "code",
      "metadata": {
        "id": "y40mCTA9GL7O"
      },
      "source": [
        "Y=[]\r\n",
        "out_width=200\r\n",
        "out_heigh=100\r\n",
        "nClasses=12\r\n",
        "seg_labels=np.zeros([out_heigh,out_width,nClasses],dtype='uint8')\r\n",
        "for mask in labels:\r\n",
        "  label=cv2.imread(mask)\r\n",
        "  label=cv2.resize(label,(out_width,out_heigh))\r\n",
        "  label= label[:,:,0]\r\n",
        "  for c in range(nClasses):\r\n",
        "    seg_labels[:,:,c]=(label==c)\r\n",
        "  label=label.astype(np.uint8)\r\n",
        "  Y.append(label)"
      ],
      "execution_count": null,
      "outputs": []
    },
    {
      "cell_type": "code",
      "metadata": {
        "id": "wpAGjZhZA45b",
        "colab": {
          "base_uri": "https://localhost:8080/"
        },
        "outputId": "384a7152-63c8-4819-d191-e6da948ca01e"
      },
      "source": [
        "np.max(image)\r\n"
      ],
      "execution_count": null,
      "outputs": [
        {
          "output_type": "execute_result",
          "data": {
            "text/plain": [
              "1.0"
            ]
          },
          "metadata": {
            "tags": []
          },
          "execution_count": 11
        }
      ]
    },
    {
      "cell_type": "code",
      "metadata": {
        "id": "JqI-imyA5tvY"
      },
      "source": [
        "pip install opencv-python"
      ],
      "execution_count": null,
      "outputs": []
    },
    {
      "cell_type": "markdown",
      "metadata": {
        "id": "g1abIg2t7cXP"
      },
      "source": [
        ""
      ]
    },
    {
      "cell_type": "code",
      "metadata": {
        "id": "u-wWssic6686"
      },
      "source": [
        "from keras.utils import np_utils\r\n",
        "Y_train= np_utils.to_categorical(train_labels)\r\n",
        "Y_test= np_utils.to_categorical(test_labels)"
      ],
      "execution_count": 16,
      "outputs": []
    },
    {
      "cell_type": "markdown",
      "metadata": {
        "id": "ZJo0hJTs_qrA"
      },
      "source": [
        "Creating Model"
      ]
    },
    {
      "cell_type": "code",
      "metadata": {
        "colab": {
          "base_uri": "https://localhost:8080/"
        },
        "id": "a5cNJC608A2t",
        "outputId": "36ee64e1-485d-4a5a-fa01-f68c56b16ea6"
      },
      "source": [
        "from keras.models import Sequential\r\n",
        "from keras.layers import Dense , Dropout\r\n",
        "from keras.losses import categorical_crossentropy\r\n",
        "from keras.optimizers import  SGD\r\n",
        "import matplotlib.pyplot as plt\r\n",
        "from keras.datasets import mnist\r\n",
        "from keras.utils import np_utils\r\n",
        "import numpy as np\r\n",
        "\r\n",
        "(train_images, train_labels),(test_images, test_labels)=mnist.load_data()\r\n",
        "Y_train= np_utils.to_categorical(train_labels)\r\n",
        "Y_test= np_utils.to_categorical(test_labels)\r\n",
        "\r\n",
        "myModel= Sequential()\r\n",
        "myModel.add(Dense(500,activation='relu',input_shape=(784,)))\r\n",
        "myModel.add(Dropout(0.2))\r\n",
        "myModel.add(Dense(100,activation='relu'))\r\n",
        "myModel.add(Dropout(0.2))\r\n",
        "myModel.add(Dense(10,activation='softmax'))\r\n",
        "myModel.summary()\r\n",
        "myModel.compile(optimizer=SGD(lr=0.01),loss=categorical_crossentropy,metrics=['accuracy'])"
      ],
      "execution_count": 22,
      "outputs": [
        {
          "output_type": "stream",
          "text": [
            "Model: \"sequential_5\"\n",
            "_________________________________________________________________\n",
            "Layer (type)                 Output Shape              Param #   \n",
            "=================================================================\n",
            "dense_15 (Dense)             (None, 500)               392500    \n",
            "_________________________________________________________________\n",
            "dropout (Dropout)            (None, 500)               0         \n",
            "_________________________________________________________________\n",
            "dense_16 (Dense)             (None, 100)               50100     \n",
            "_________________________________________________________________\n",
            "dropout_1 (Dropout)          (None, 100)               0         \n",
            "_________________________________________________________________\n",
            "dense_17 (Dense)             (None, 10)                1010      \n",
            "=================================================================\n",
            "Total params: 443,610\n",
            "Trainable params: 443,610\n",
            "Non-trainable params: 0\n",
            "_________________________________________________________________\n"
          ],
          "name": "stdout"
        }
      ]
    },
    {
      "cell_type": "markdown",
      "metadata": {
        "id": "BHEhgL2_Upmq"
      },
      "source": [
        "Plat\r\n"
      ]
    },
    {
      "cell_type": "code",
      "metadata": {
        "id": "FGxh40WIUtHq"
      },
      "source": [
        "def plot_history(net_history):\r\n",
        "    history=net_history.history\r\n",
        "    losses=history['loss']\r\n",
        "    accuracies=history['acc']\r\n",
        "    plt.xlabel('Epochs')\r\n",
        "    plt.ylabel('Loss')\r\n",
        "    plt.plot(losses)\r\n",
        "    plt.figure()\r\n",
        "    plt.xlabel('Epochs')\r\n",
        "    plt.ylabel('Accuracy')\r\n",
        "    plt.plot(accuracies)\r\n"
      ],
      "execution_count": 33,
      "outputs": []
    },
    {
      "cell_type": "markdown",
      "metadata": {
        "id": "j0AVVJnhWw_N"
      },
      "source": [
        "Train"
      ]
    },
    {
      "cell_type": "code",
      "metadata": {
        "id": "MggOm2qdWye0",
        "outputId": "0f0ee761-7385-49f6-ca6a-c8804461e02b",
        "colab": {
          "base_uri": "https://localhost:8080/"
        }
      },
      "source": [
        "network_history=myModel.fit(X_train,Y_train,batch_size=128,epochs=20,validation_split=0.2)\r\n"
      ],
      "execution_count": 23,
      "outputs": [
        {
          "output_type": "stream",
          "text": [
            "Epoch 1/20\n",
            "375/375 [==============================] - 4s 11ms/step - loss: 1.7600 - accuracy: 0.4526 - val_loss: 0.6419 - val_accuracy: 0.8587\n",
            "Epoch 2/20\n",
            "375/375 [==============================] - 4s 10ms/step - loss: 0.7257 - accuracy: 0.7924 - val_loss: 0.4293 - val_accuracy: 0.8893\n",
            "Epoch 3/20\n",
            "375/375 [==============================] - 4s 10ms/step - loss: 0.5491 - accuracy: 0.8410 - val_loss: 0.3578 - val_accuracy: 0.9041\n",
            "Epoch 4/20\n",
            "375/375 [==============================] - 4s 10ms/step - loss: 0.4724 - accuracy: 0.8627 - val_loss: 0.3203 - val_accuracy: 0.9120\n",
            "Epoch 5/20\n",
            "375/375 [==============================] - 4s 10ms/step - loss: 0.4237 - accuracy: 0.8772 - val_loss: 0.2940 - val_accuracy: 0.9182\n",
            "Epoch 6/20\n",
            "375/375 [==============================] - 4s 10ms/step - loss: 0.3784 - accuracy: 0.8916 - val_loss: 0.2749 - val_accuracy: 0.9227\n",
            "Epoch 7/20\n",
            "375/375 [==============================] - 4s 10ms/step - loss: 0.3613 - accuracy: 0.8951 - val_loss: 0.2599 - val_accuracy: 0.9275\n",
            "Epoch 8/20\n",
            "375/375 [==============================] - 4s 10ms/step - loss: 0.3405 - accuracy: 0.9025 - val_loss: 0.2469 - val_accuracy: 0.9308\n",
            "Epoch 9/20\n",
            "375/375 [==============================] - 4s 10ms/step - loss: 0.3189 - accuracy: 0.9090 - val_loss: 0.2344 - val_accuracy: 0.9346\n",
            "Epoch 10/20\n",
            "375/375 [==============================] - 4s 10ms/step - loss: 0.3074 - accuracy: 0.9135 - val_loss: 0.2244 - val_accuracy: 0.9370\n",
            "Epoch 11/20\n",
            "375/375 [==============================] - 4s 10ms/step - loss: 0.2943 - accuracy: 0.9141 - val_loss: 0.2157 - val_accuracy: 0.9392\n",
            "Epoch 12/20\n",
            "375/375 [==============================] - 4s 10ms/step - loss: 0.2803 - accuracy: 0.9189 - val_loss: 0.2076 - val_accuracy: 0.9408\n",
            "Epoch 13/20\n",
            "375/375 [==============================] - 4s 10ms/step - loss: 0.2630 - accuracy: 0.9253 - val_loss: 0.1995 - val_accuracy: 0.9428\n",
            "Epoch 14/20\n",
            "375/375 [==============================] - 4s 10ms/step - loss: 0.2600 - accuracy: 0.9246 - val_loss: 0.1932 - val_accuracy: 0.9456\n",
            "Epoch 15/20\n",
            "375/375 [==============================] - 4s 10ms/step - loss: 0.2425 - accuracy: 0.9306 - val_loss: 0.1881 - val_accuracy: 0.9462\n",
            "Epoch 16/20\n",
            "375/375 [==============================] - 4s 10ms/step - loss: 0.2463 - accuracy: 0.9283 - val_loss: 0.1808 - val_accuracy: 0.9490\n",
            "Epoch 17/20\n",
            "375/375 [==============================] - 4s 10ms/step - loss: 0.2372 - accuracy: 0.9308 - val_loss: 0.1761 - val_accuracy: 0.9502\n",
            "Epoch 18/20\n",
            "375/375 [==============================] - 4s 10ms/step - loss: 0.2245 - accuracy: 0.9343 - val_loss: 0.1713 - val_accuracy: 0.9528\n",
            "Epoch 19/20\n",
            "375/375 [==============================] - 4s 11ms/step - loss: 0.2210 - accuracy: 0.9352 - val_loss: 0.1666 - val_accuracy: 0.9534\n",
            "Epoch 20/20\n",
            "375/375 [==============================] - 4s 11ms/step - loss: 0.2136 - accuracy: 0.9379 - val_loss: 0.1628 - val_accuracy: 0.9538\n"
          ],
          "name": "stdout"
        }
      ]
    },
    {
      "cell_type": "code",
      "metadata": {
        "id": "x0dKWCeZYeZP",
        "outputId": "2d9641aa-f83e-4b5a-bd56-304448e74320",
        "colab": {
          "base_uri": "https://localhost:8080/",
          "height": 563
        }
      },
      "source": [
        "#plot_history(network_history)\r\n",
        "history=network_history.history\r\n",
        "accuracies=history['accuracy']\r\n",
        "val_loss= history['val_loss']\r\n",
        "val_accuracy=history['val_accuracy']\r\n",
        "losses=history['loss']\r\n",
        "plt.xlabel('Epochs')\r\n",
        "plt.ylabel('Loss')\r\n",
        "plt.plot(losses)\r\n",
        "plt.plot(val_loss)\r\n",
        "plt.legend(['loss','val_loss'])\r\n",
        "plt.figure()\r\n",
        "plt.xlabel('Epochs')\r\n",
        "plt.ylabel('Accuracy')\r\n",
        "plt.plot(accuracies)\r\n",
        "plt.plot(val_accuracy)\r\n",
        "plt.legend(['accuracies','val_accuracies'])\r\n"
      ],
      "execution_count": 25,
      "outputs": [
        {
          "output_type": "execute_result",
          "data": {
            "text/plain": [
              "<matplotlib.legend.Legend at 0x7fcb48b5e090>"
            ]
          },
          "metadata": {
            "tags": []
          },
          "execution_count": 25
        },
        {
          "output_type": "display_data",
          "data": {
            "image/png": "[encoded data removed]",
            "text/plain": [
              "<Figure size 432x288 with 1 Axes>"
            ]
          },
          "metadata": {
            "tags": [],
            "needs_background": "light"
          }
        },
        {
          "output_type": "display_data",
          "data": {
            "image/png": "[encoded data removed]",
            "text/plain": [
              "<Figure size 432x288 with 1 Axes>"
            ]
          },
          "metadata": {
            "tags": [],
            "needs_background": "light"
          }
        }
      ]
    },
    {
      "cell_type": "code",
      "metadata": {
        "id": "6pkmSmAJ676z",
        "outputId": "613a39eb-1bfc-4cf7-8121-951082cf1d2d",
        "colab": {
          "base_uri": "https://localhost:8080/"
        }
      },
      "source": [
        "test_loss,test_accuracy=myModel.evaluate(X_test,Y_test)\r\n",
        "test_label_p=myModel.predict(X_test,)\r\n",
        "test_label_p=np.argmax(test_label_p,axis=1)"
      ],
      "execution_count": 28,
      "outputs": [
        {
          "output_type": "stream",
          "text": [
            "313/313 [==============================] - 1s 2ms/step - loss: 0.1636 - accuracy: 0.9520\n"
          ],
          "name": "stdout"
        }
      ]
    },
    {
      "cell_type": "code",
      "metadata": {
        "id": "CthEsHRJWT95",
        "outputId": "fa36059d-1f9a-4f9a-e827-1b7c038faee7",
        "colab": {
          "base_uri": "https://localhost:8080/"
        }
      },
      "source": [
        "myModel.layers[0].get_config()"
      ],
      "execution_count": 31,
      "outputs": [
        {
          "output_type": "execute_result",
          "data": {
            "text/plain": [
              "{'activation': 'relu',\n",
              " 'activity_regularizer': None,\n",
              " 'batch_input_shape': (None, 784),\n",
              " 'bias_constraint': None,\n",
              " 'bias_initializer': {'class_name': 'Zeros', 'config': {}},\n",
              " 'bias_regularizer': None,\n",
              " 'dtype': 'float32',\n",
              " 'kernel_constraint': None,\n",
              " 'kernel_initializer': {'class_name': 'GlorotUniform',\n",
              "  'config': {'seed': None}},\n",
              " 'kernel_regularizer': None,\n",
              " 'name': 'dense_15',\n",
              " 'trainable': True,\n",
              " 'units': 500,\n",
              " 'use_bias': True}"
            ]
          },
          "metadata": {
            "tags": []
          },
          "execution_count": 31
        }
      ]
    },
    {
      "cell_type": "code",
      "metadata": {
        "id": "q8CmNE-nUpC5",
        "outputId": "cf40bc1f-4eea-4c3e-94dc-2acff8ac84ae",
        "colab": {
          "base_uri": "https://localhost:8080/"
        }
      },
      "source": [
        "test_loss"
      ],
      "execution_count": 27,
      "outputs": [
        {
          "output_type": "execute_result",
          "data": {
            "text/plain": [
              "0.16360008716583252"
            ]
          },
          "metadata": {
            "tags": []
          },
          "execution_count": 27
        }
      ]
    }
  ]
}