{
  "nbformat": 4,
  "nbformat_minor": 0,
  "metadata": {
    "colab": {
      "name": "CNN.ipynb",
      "provenance": [],
      "include_colab_link": true
    },
    "kernelspec": {
      "name": "python3",
      "display_name": "Python 3"
    }
  },
  "cells": [
    {
      "cell_type": "markdown",
      "metadata": {
        "id": "view-in-github",
        "colab_type": "text"
      },
      "source": [
        "<a href=\"https://colab.research.google.com/github/zahraDehghanian97/stock_market/blob/master/Keras.ipynb\" target=\"_parent\"><img src=\"https://colab.research.google.com/assets/colab-badge.svg\" alt=\"Open In Colab\"/></a>"
      ]
    },
    {
      "cell_type": "markdown",
      "metadata": {
        "id": "bWcT_YhVwaUj"
      },
      "source": [
        "Deep Learing model in Keras\r\n",
        "Implementation Steps:\r\n",
        " 1- Data preparation (Train/Validation/Test)\r\n",
        " 2- Crrating layers and model\r\n",
        " 3- Setting training parameters (Loss & optimization function ,...)\r\n",
        " 4- Train the model (using fit())\r\n"
      ]
    },
    {
      "cell_type": "code",
      "metadata": {
        "id": "PBokhGnR1qSs",
        "colab": {
          "base_uri": "https://localhost:8080/"
        },
        "outputId": "ac1fc1d7-4317-4648-d463-940466feeef3"
      },
      "source": [
        "from keras.datasets import mnist\r\n",
        "(train_images, train_labels),(test_images, test_labels)=mnist.load_data()"
      ],
      "execution_count": 19,
      "outputs": [
        {
          "output_type": "stream",
          "text": [
            "Downloading data from https://storage.googleapis.com/tensorflow/tf-keras-datasets/mnist.npz\n",
            "11493376/11490434 [==============================] - 0s 0us/step\n"
          ],
          "name": "stdout"
        }
      ]
    },
    {
      "cell_type": "code",
      "metadata": {
        "id": "iZ1OCD0pKo7O"
      },
      "source": [
        "X_train=train_images.reshape(60000,784)\r\n",
        "X_test=test_images.reshape(10000,784)\r\n",
        "X_train=X_train.astype('float32')\r\n",
        "X_test=X_test.astype('float32')\r\n",
        "X_train/=255\r\n",
        "X_test/=255"
      ],
      "execution_count": 20,
      "outputs": []
    },
    {
      "cell_type": "code",
      "metadata": {
        "id": "NS-QLfdGyqAC",
        "colab": {
          "base_uri": "https://localhost:8080/",
          "height": 283
        },
        "outputId": "1a6b9016-52a3-4de4-c348-634c8b63b3ae"
      },
      "source": [
        "import matplotlib.pyplot as plt\r\n",
        "digit=train_images[4]\r\n",
        "plt.imshow(digit,cmap='binary')"
      ],
      "execution_count": null,
      "outputs": [
        {
          "output_type": "execute_result",
          "data": {
            "text/plain": [
              "<matplotlib.image.AxesImage at 0x7f3ea72798d0>"
            ]
          },
          "metadata": {
            "tags": []
          },
          "execution_count": 14
        },
        {
          "output_type": "display_data",
          "data": {
            "image/png": "[encoded data removed]",
            "text/plain": [
              "<Figure size 432x288 with 1 Axes>"
            ]
          },
          "metadata": {
            "tags": [],
            "needs_background": "light"
          }
        }
      ]
    },
    {
      "cell_type": "code",
      "metadata": {
        "id": "Pl-NlBoV2Rvs",
        "colab": {
          "base_uri": "https://localhost:8080/"
        },
        "outputId": "a10ee1e2-7644-46f8-8890-9039c26ebf06"
      },
      "source": [
        "my_data=train_images[10:100]\r\n",
        "print(my_data.ndim)\r\n",
        "print(my_data.shape)\r\n",
        "print(my_data.dtype)\r\n"
      ],
      "execution_count": null,
      "outputs": [
        {
          "output_type": "stream",
          "text": [
            "3\n",
            "(90, 28, 28)\n",
            "uint8\n"
          ],
          "name": "stdout"
        }
      ]
    },
    {
      "cell_type": "code",
      "metadata": {
        "id": "Ggz3BHzU4wv4"
      },
      "source": [
        "import glob\r\n",
        "import cv2\r\n",
        "import numpy as np\r\n"
      ],
      "execution_count": 7,
      "outputs": []
    },
    {
      "cell_type": "code",
      "metadata": {
        "colab": {
          "base_uri": "https://localhost:8080/"
        },
        "id": "zchPiV32AFWm",
        "outputId": "5630fc99-510b-49e1-ea11-f1ec938d8cef"
      },
      "source": [
        "! curl -L https://api.github.com/repos/zahraDehghanian97/stock_market/tarball --output repo.tar\r\n",
        "! tar xf repo.tar --wildcards \"*/I_Train/*.png\" --strip-components=1 \r\n",
        "! tar xf repo.tar --wildcards \"*/I_Trainnot/*.png\" --strip-components=1 \r\n",
        "! rm -rf repo.tar\r\n"
      ],
      "execution_count": 12,
      "outputs": [
        {
          "output_type": "stream",
          "text": [
            "  % Total    % Received % Xferd  Average Speed   Time    Time     Time  Current\n",
            "                                 Dload  Upload   Total   Spent    Left  Speed\n",
            "  0     0    0     0    0     0      0      0 --:--:-- --:--:-- --:--:--     0\n",
            "100 15.5M    0 15.5M    0     0  7476k      0 --:--:--  0:00:02 --:--:-- 5960k\n"
          ],
          "name": "stdout"
        }
      ]
    },
    {
      "cell_type": "code",
      "metadata": {
        "id": "1YYpakz0CH1K"
      },
      "source": [
        "images=glob.glob(\"T_Image\"+\"/*.png\")\r\n",
        "labels=glob.glob(\"I_Trainnot\"+\"/*.png\")\r\n"
      ],
      "execution_count": 13,
      "outputs": []
    },
    {
      "cell_type": "code",
      "metadata": {
        "id": "nWjTjF2yBdjM"
      },
      "source": [
        "X=[]\r\n",
        "width=200\r\n",
        "heigh=100\r\n",
        "for img in images:\r\n",
        "  image=cv2.imread(img)\r\n",
        "  image=cv2.resize(image,(width,heigh))\r\n",
        "  image= image/np.max(image)\r\n",
        "  image=image.astype(np.float32)\r\n",
        "  X.append(image)"
      ],
      "execution_count": 14,
      "outputs": []
    },
    {
      "cell_type": "code",
      "metadata": {
        "id": "y40mCTA9GL7O"
      },
      "source": [
        "Y=[]\r\n",
        "out_width=200\r\n",
        "out_heigh=100\r\n",
        "nClasses=12\r\n",
        "seg_labels=np.zeros([out_heigh,out_width,nClasses],dtype='uint8')\r\n",
        "for mask in labels:\r\n",
        "  label=cv2.imread(mask)\r\n",
        "  label=cv2.resize(label,(out_width,out_heigh))\r\n",
        "  label= label[:,:,0]\r\n",
        "  for c in range(nClasses):\r\n",
        "    seg_labels[:,:,c]=(label==c)\r\n",
        "  label=label.astype(np.uint8)\r\n",
        "  Y.append(label)"
      ],
      "execution_count": 18,
      "outputs": []
    },
    {
      "cell_type": "code",
      "metadata": {
        "id": "wpAGjZhZA45b",
        "colab": {
          "base_uri": "https://localhost:8080/"
        },
        "outputId": "384a7152-63c8-4819-d191-e6da948ca01e"
      },
      "source": [
        "np.max(image)\r\n"
      ],
      "execution_count": 11,
      "outputs": [
        {
          "output_type": "execute_result",
          "data": {
            "text/plain": [
              "1.0"
            ]
          },
          "metadata": {
            "tags": []
          },
          "execution_count": 11
        }
      ]
    },
    {
      "cell_type": "code",
      "metadata": {
        "id": "JqI-imyA5tvY",
        "colab": {
          "base_uri": "https://localhost:8080/"
        },
        "outputId": "411f1f5a-61cf-4245-bc20-10f475b92a28"
      },
      "source": [
        "pip install opencv-python"
      ],
      "execution_count": null,
      "outputs": [
        {
          "output_type": "stream",
          "text": [
            "Requirement already satisfied: opencv-python in /usr/local/lib/python3.7/dist-packages (4.1.2.30)\n",
            "Requirement already satisfied: numpy>=1.14.5 in /usr/local/lib/python3.7/dist-packages (from opencv-python) (1.19.5)\n"
          ],
          "name": "stdout"
        }
      ]
    },
    {
      "cell_type": "code",
      "metadata": {
        "id": "u-wWssic6686",
        "colab": {
          "base_uri": "https://localhost:8080/"
        },
        "outputId": "a53c2f66-9ce8-4d3e-98ab-178308d19f3c"
      },
      "source": [
        "len(images)"
      ],
      "execution_count": null,
      "outputs": [
        {
          "output_type": "execute_result",
          "data": {
            "text/plain": [
              "0"
            ]
          },
          "metadata": {
            "tags": []
          },
          "execution_count": 29
        }
      ]
    }
  ]
}