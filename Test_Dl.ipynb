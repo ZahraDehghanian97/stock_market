{
  "nbformat": 4,
  "nbformat_minor": 0,
  "metadata": {
    "colab": {
      "name": "RNN.ipynb",
      "provenance": [],
      "include_colab_link": true
    },
    "kernelspec": {
      "name": "python3",
      "display_name": "Python 3"
    }
  },
  "cells": [
    {
      "cell_type": "markdown",
      "metadata": {
        "id": "view-in-github",
        "colab_type": "text"
      },
      "source": [
        "<a href=\"https://colab.research.google.com/github/zahraDehghanian97/stock_market/blob/master/RNN.ipynb\" target=\"_parent\"><img src=\"https://colab.research.google.com/assets/colab-badge.svg\" alt=\"Open In Colab\"/></a>"
      ]
    },
    {
      "cell_type": "code",
      "metadata": {
        "id": "nesZtU3N1bld"
      },
      "source": [
        "import pandas as pd\r\n",
        "from keras.layers.core import Dense, Dropout\r\n",
        "from keras.layers.recurrent import GRU\r\n",
        "from keras.models import Sequential, load_model\r\n",
        "import matplotlib.pyplot as plt\r\n",
        "import numpy as np\r\n",
        "from sklearn.model_selection import train_test_split\r\n",
        "from sklearn.preprocessing import MinMaxScaler\r\n",
        "import glob\r\n"
      ],
      "execution_count": 9,
      "outputs": []
    },
    {
      "cell_type": "code",
      "metadata": {
        "id": "EbVkm4Aob13B",
        "colab": {
          "base_uri": "https://localhost:8080/"
        },
        "outputId": "63e161d8-98a6-4c16-97ba-90aa3171cf95"
      },
      "source": [
        "! curl -L https://api.github.com/repos/zahraDehghanian97/stock_market/tarball --output repo.tar\r\n",
        "! tar xf repo.tar --wildcards \"*/tickers_data/*.csv\" --strip-components=1 \r\n",
        "! rm -rf repo.tar\r\n"
      ],
      "execution_count": 10,
      "outputs": [
        {
          "output_type": "stream",
          "text": [
            "  % Total    % Received % Xferd  Average Speed   Time    Time     Time  Current\n",
            "                                 Dload  Upload   Total   Spent    Left  Speed\n",
            "  0     0    0     0    0     0      0      0 --:--:-- --:--:-- --:--:--     0\n",
            "100 7440k    0 7440k    0     0  2732k      0 --:--:--  0:00:02 --:--:-- 4728k\n"
          ],
          "name": "stdout"
        }
      ]
    },
    {
      "cell_type": "code",
      "metadata": {
        "id": "OLfn4yeYb6Ii",
        "colab": {
          "base_uri": "https://localhost:8080/"
        },
        "outputId": "5b6738ad-6829-4f29-b38a-6ec89c8f851e"
      },
      "source": [
        "def load_df_from_csv(dir_name:str) -> dict:\r\n",
        "  stocks = {}\r\n",
        "  for file_name in sorted(glob.glob(dir_name+'/*.csv')):\r\n",
        "    df = pd.read_csv(file_name,names=['close'])\r\n",
        "    dataset_name = file_name.split(\"/\")[1].split(\".csv\")[0]\r\n",
        "    print(dataset_name)\r\n",
        "    stocks[dataset_name] = df\r\n",
        "  return stocks\r\n",
        "\r\n",
        "stocks = load_df_from_csv(dir_name=\"tickers_data\")\r\n",
        "\r\n",
        "def evaluate_performance(testing_actual, testing_predict):\r\n",
        "    counter = 0\r\n",
        "    for i in range(len(testing_actual)-1):\r\n",
        "        predict=testing_predict[i+1]- testing_predict[i]\r\n",
        "        actual = testing_actual[i+1]-testing_actual[i]\r\n",
        "        if (actual > 0 and predict > 0) or (actual < 0 and predict < 0):\r\n",
        "            counter+=1\r\n",
        "    counter = round((counter / (len(testing_actual)-1))*100,2)\r\n",
        "    return counter\r\n"
      ],
      "execution_count": 11,
      "outputs": [
        {
          "output_type": "stream",
          "text": [
            "/usr/local/lib/python3.7/dist-packages/IPython/core/interactiveshell.py:2822: DtypeWarning: Columns (2,3,4,5,6) have mixed types.Specify dtype option on import or set low_memory=False.\n",
            "  if self.run_code(code, result):\n"
          ],
          "name": "stderr"
        },
        {
          "output_type": "stream",
          "text": [
            "prices_stock_yahoo\n",
            "خچرخش\n",
            "شپنا\n"
          ],
          "name": "stdout"
        }
      ]
    },
    {
      "cell_type": "code",
      "metadata": {
        "id": "RnsLE8RRbp1n",
        "colab": {
          "base_uri": "https://localhost:8080/",
          "height": 1000
        },
        "outputId": "07b97623-02b6-4e98-f6cf-59b05666f627"
      },
      "source": [
        "# prices = pd.read_csv('tickers_data/prices_stock_yahoo.csv', index_col=['date'])\r\n",
        "prices = pd.read_csv('tickers_data/شپنا.csv', index_col=['date'])\r\n",
        "# selecting YHOO stocks\r\n",
        "yahoo = prices[prices['symbol']=='Sapna']\r\n",
        "\r\n",
        "# preparing input features\r\n",
        "yahoo = yahoo.drop(['symbol'], axis=1)\r\n",
        "yahoo = yahoo.drop(['volume'], axis=1)\r\n",
        "yahoo = yahoo[['open', 'low', 'high', 'close']]\r\n",
        "\r\n",
        "# preparing label data\r\n",
        "yahoo_shift = yahoo.shift(-1)\r\n",
        "label = yahoo_shift['close']\r\n",
        "\r\n",
        "# adjusting the shape of both\r\n",
        "yahoo.drop(yahoo.index[len(yahoo)-1], axis=0, inplace=True)\r\n",
        "label.drop(label.index[len(label)-1], axis=0, inplace=True)\r\n",
        "\r\n",
        "# conversion to numpy array\r\n",
        "x, y = yahoo.values, label.values\r\n",
        "\r\n",
        "# scaling values for model\r\n",
        "x_scale = MinMaxScaler()\r\n",
        "y_scale = MinMaxScaler()\r\n",
        "\r\n",
        "X = x_scale.fit_transform(x)\r\n",
        "Y = y_scale.fit_transform(y.reshape(-1,1))\r\n",
        "\r\n",
        "# splitting train and test\r\n",
        "X_train, X_test, y_train, y_test = train_test_split(X, Y, test_size=0.33)\r\n",
        "X_train = X_train.reshape((-1,1,4))\r\n",
        "X_test = X_test.reshape((-1,1,4))\r\n",
        "\r\n",
        "# creating model using Keras\r\n",
        "# tf.reset_default_graph()\r\n",
        "\r\n",
        "model_name = 'stock_price_GRU'\r\n",
        "\r\n",
        "model = Sequential()\r\n",
        "model.add(GRU(units=512,\r\n",
        "              return_sequences=True,\r\n",
        "              input_shape=(1, 4)))\r\n",
        "model.add(Dropout(0.2))\r\n",
        "model.add(GRU(units=256))\r\n",
        "model.add(Dropout(0.2))\r\n",
        "model.add(Dense(1, activation='sigmoid'))\r\n",
        "model.compile(loss='mse', optimizer='adam')\r\n",
        "\r\n",
        "# model = load_model(\"{}.h5\".format(model_name))\r\n",
        "# print(\"MODEL-LOADED\")\r\n",
        "\r\n",
        "model.fit(X_train,y_train,batch_size=250, epochs=50, validation_split=0.1, verbose=1)\r\n",
        "model.save(\"{}.h5\".format(model_name))\r\n",
        "print('MODEL-SAVED')\r\n",
        "\r\n",
        "score = model.evaluate(X_test, y_test)\r\n",
        "print('Score: {}'.format(score))\r\n",
        "yhat = model.predict(X_test)\r\n",
        "\r\n",
        "print(\"-------------------------------\")\r\n",
        "print('evaluating performance...')\r\n",
        "accuracy_model = evaluate_performance(y_test, yhat)\r\n",
        "print('Testing Accuracy: ', accuracy_model,\"%\")\r\n",
        "\r\n",
        "\r\n",
        "yhat = y_scale.inverse_transform(yhat)\r\n",
        "y_test = y_scale.inverse_transform(y_test)\r\n",
        "plt.plot(yhat[-100:], label='Predicted')\r\n",
        "plt.plot(y_test[-100:], label='Ground Truth')\r\n",
        "plt.legend()\r\n",
        "plt.show()"
      ],
      "execution_count": 12,
      "outputs": [
        {
          "output_type": "stream",
          "text": [
            "Epoch 1/50\n",
            "6/6 [==============================] - 4s 189ms/step - loss: 0.1607 - val_loss: 0.1207\n",
            "Epoch 2/50\n",
            "6/6 [==============================] - 0s 60ms/step - loss: 0.1170 - val_loss: 0.0664\n",
            "Epoch 3/50\n",
            "6/6 [==============================] - 0s 59ms/step - loss: 0.0678 - val_loss: 0.0341\n",
            "Epoch 4/50\n",
            "6/6 [==============================] - 0s 58ms/step - loss: 0.0400 - val_loss: 0.0298\n",
            "Epoch 5/50\n",
            "6/6 [==============================] - 0s 61ms/step - loss: 0.0358 - val_loss: 0.0275\n",
            "Epoch 6/50\n",
            "6/6 [==============================] - 0s 57ms/step - loss: 0.0297 - val_loss: 0.0154\n",
            "Epoch 7/50\n",
            "6/6 [==============================] - 0s 57ms/step - loss: 0.0120 - val_loss: 0.0019\n",
            "Epoch 8/50\n",
            "6/6 [==============================] - 0s 58ms/step - loss: 0.0036 - val_loss: 0.0058\n",
            "Epoch 9/50\n",
            "6/6 [==============================] - 0s 57ms/step - loss: 0.0051 - val_loss: 0.0014\n",
            "Epoch 10/50\n",
            "6/6 [==============================] - 0s 57ms/step - loss: 0.0016 - val_loss: 0.0015\n",
            "Epoch 11/50\n",
            "6/6 [==============================] - 0s 60ms/step - loss: 0.0019 - val_loss: 0.0016\n",
            "Epoch 12/50\n",
            "6/6 [==============================] - 0s 61ms/step - loss: 0.0016 - val_loss: 0.0010\n",
            "Epoch 13/50\n",
            "6/6 [==============================] - 0s 59ms/step - loss: 0.0012 - val_loss: 0.0011\n",
            "Epoch 14/50\n",
            "6/6 [==============================] - 0s 56ms/step - loss: 0.0016 - val_loss: 8.5005e-04\n",
            "Epoch 15/50\n",
            "6/6 [==============================] - 0s 57ms/step - loss: 0.0012 - val_loss: 8.2166e-04\n",
            "Epoch 16/50\n",
            "6/6 [==============================] - 0s 57ms/step - loss: 0.0013 - val_loss: 7.9655e-04\n",
            "Epoch 17/50\n",
            "6/6 [==============================] - 0s 57ms/step - loss: 0.0011 - val_loss: 7.8831e-04\n",
            "Epoch 18/50\n",
            "6/6 [==============================] - 0s 56ms/step - loss: 0.0010 - val_loss: 7.8672e-04\n",
            "Epoch 19/50\n",
            "6/6 [==============================] - 0s 56ms/step - loss: 0.0011 - val_loss: 7.8171e-04\n",
            "Epoch 20/50\n",
            "6/6 [==============================] - 0s 56ms/step - loss: 0.0012 - val_loss: 7.7686e-04\n",
            "Epoch 21/50\n",
            "6/6 [==============================] - 0s 56ms/step - loss: 0.0010 - val_loss: 7.7246e-04\n",
            "Epoch 22/50\n",
            "6/6 [==============================] - 0s 60ms/step - loss: 0.0012 - val_loss: 7.5620e-04\n",
            "Epoch 23/50\n",
            "6/6 [==============================] - 0s 57ms/step - loss: 0.0010 - val_loss: 7.3974e-04\n",
            "Epoch 24/50\n",
            "6/6 [==============================] - 0s 56ms/step - loss: 0.0013 - val_loss: 7.3032e-04\n",
            "Epoch 25/50\n",
            "6/6 [==============================] - 0s 58ms/step - loss: 0.0010 - val_loss: 7.2678e-04\n",
            "Epoch 26/50\n",
            "6/6 [==============================] - 0s 58ms/step - loss: 0.0013 - val_loss: 7.1448e-04\n",
            "Epoch 27/50\n",
            "6/6 [==============================] - 0s 58ms/step - loss: 9.6535e-04 - val_loss: 7.1070e-04\n",
            "Epoch 28/50\n",
            "6/6 [==============================] - 0s 60ms/step - loss: 9.9017e-04 - val_loss: 7.0448e-04\n",
            "Epoch 29/50\n",
            "6/6 [==============================] - 0s 57ms/step - loss: 0.0010 - val_loss: 6.9429e-04\n",
            "Epoch 30/50\n",
            "6/6 [==============================] - 0s 56ms/step - loss: 0.0013 - val_loss: 6.8328e-04\n",
            "Epoch 31/50\n",
            "6/6 [==============================] - 0s 58ms/step - loss: 0.0010 - val_loss: 6.7807e-04\n",
            "Epoch 32/50\n",
            "6/6 [==============================] - 0s 57ms/step - loss: 0.0013 - val_loss: 6.8107e-04\n",
            "Epoch 33/50\n",
            "6/6 [==============================] - 0s 58ms/step - loss: 0.0011 - val_loss: 6.6091e-04\n",
            "Epoch 34/50\n",
            "6/6 [==============================] - 0s 58ms/step - loss: 9.3917e-04 - val_loss: 6.5542e-04\n",
            "Epoch 35/50\n",
            "6/6 [==============================] - 0s 58ms/step - loss: 0.0011 - val_loss: 6.4519e-04\n",
            "Epoch 36/50\n",
            "6/6 [==============================] - 0s 57ms/step - loss: 9.9304e-04 - val_loss: 6.3829e-04\n",
            "Epoch 37/50\n",
            "6/6 [==============================] - 0s 57ms/step - loss: 9.8175e-04 - val_loss: 6.3105e-04\n",
            "Epoch 38/50\n",
            "6/6 [==============================] - 0s 58ms/step - loss: 0.0012 - val_loss: 6.2176e-04\n",
            "Epoch 39/50\n",
            "6/6 [==============================] - 0s 57ms/step - loss: 0.0012 - val_loss: 6.2174e-04\n",
            "Epoch 40/50\n",
            "6/6 [==============================] - 0s 57ms/step - loss: 9.6175e-04 - val_loss: 6.1357e-04\n",
            "Epoch 41/50\n",
            "6/6 [==============================] - 0s 58ms/step - loss: 9.4448e-04 - val_loss: 6.0404e-04\n",
            "Epoch 42/50\n",
            "6/6 [==============================] - 0s 60ms/step - loss: 0.0010 - val_loss: 5.9678e-04\n",
            "Epoch 43/50\n",
            "6/6 [==============================] - 0s 59ms/step - loss: 9.0930e-04 - val_loss: 5.8836e-04\n",
            "Epoch 44/50\n",
            "6/6 [==============================] - 0s 57ms/step - loss: 9.1308e-04 - val_loss: 5.8687e-04\n",
            "Epoch 45/50\n",
            "6/6 [==============================] - 0s 55ms/step - loss: 9.7186e-04 - val_loss: 5.8054e-04\n",
            "Epoch 46/50\n",
            "6/6 [==============================] - 0s 59ms/step - loss: 0.0012 - val_loss: 5.7270e-04\n",
            "Epoch 47/50\n",
            "6/6 [==============================] - 0s 59ms/step - loss: 9.4800e-04 - val_loss: 5.6750e-04\n",
            "Epoch 48/50\n",
            "6/6 [==============================] - 0s 64ms/step - loss: 0.0010 - val_loss: 5.6890e-04\n",
            "Epoch 49/50\n",
            "6/6 [==============================] - 0s 63ms/step - loss: 0.0012 - val_loss: 5.6100e-04\n",
            "Epoch 50/50\n",
            "6/6 [==============================] - 0s 59ms/step - loss: 9.4462e-04 - val_loss: 5.5645e-04\n",
            "MODEL-SAVED\n",
            "24/24 [==============================] - 0s 4ms/step - loss: 7.3316e-04\n",
            "Score: 0.00073315913323313\n",
            "-------------------------------\n",
            "evaluating performance...\n",
            "Testing Accuracy:  98.52 %\n"
          ],
          "name": "stdout"
        },
        {
          "output_type": "display_data",
          "data": {
            "image/png": "[encoded data removed]",
            "text/plain": [
              "<Figure size 432x288 with 1 Axes>"
            ]
          },
          "metadata": {
            "tags": [],
            "needs_background": "light"
          }
        }
      ]
    },
    {
      "cell_type": "code",
      "metadata": {
        "id": "oYf12tnabzsN"
      },
      "source": [
        ""
      ],
      "execution_count": null,
      "outputs": []
    }
  ]
}